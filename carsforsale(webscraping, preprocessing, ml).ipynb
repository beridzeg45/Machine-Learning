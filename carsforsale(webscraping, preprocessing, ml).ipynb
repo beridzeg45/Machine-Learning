{
 "cells": [
  {
   "cell_type": "markdown",
   "metadata": {},
   "source": [
    "# Web Scraping"
   ]
  },
  {
   "cell_type": "code",
   "execution_count": 1,
   "metadata": {},
   "outputs": [],
   "source": [
    "from selenium import webdriver\n",
    "from selenium.webdriver.support.wait import WebDriverWait\n",
    "from selenium.webdriver.support import expected_conditions\n",
    "from selenium.webdriver.common.by import By\n",
    "from selenium.webdriver.common.keys import Keys\n",
    "from selenium.webdriver.common.action_chains import ActionChains\n",
    "from selenium.webdriver.support.ui import Select\n",
    "from bs4 import BeautifulSoup\n",
    "import requests\n",
    "import time\n",
    "import pickle\n",
    "import os\n",
    "\n",
    "import datetime as dt \n",
    "import pandas as pd\n",
    "pd.options.display.max_columns=100\n",
    "import numpy as np\n",
    "import matplotlib.pyplot as plt\n",
    "import seaborn as sns\n",
    "plt.style.use('ggplot')\n",
    "import ast\n",
    "\n",
    "headers = {\n",
    "    \"User-Agent\": \"My Custom User Agent\",\n",
    "    \"Accept\": \"application/json\",\n",
    "}\n",
    "\n",
    "import warnings\n",
    "warnings.filterwarnings('ignore')"
   ]
  },
  {
   "cell_type": "code",
   "execution_count": null,
   "metadata": {},
   "outputs": [],
   "source": [
    "driver=webdriver.Edge()\n",
    "driver.maximize_window()"
   ]
  },
  {
   "cell_type": "code",
   "execution_count": null,
   "metadata": {},
   "outputs": [],
   "source": [
    "home_url=\"https://www.carsforsale.com/\" #not the actual website"
   ]
  },
  {
   "cell_type": "code",
   "execution_count": null,
   "metadata": {},
   "outputs": [],
   "source": [
    "driver.get(home_url)"
   ]
  },
  {
   "cell_type": "code",
   "execution_count": null,
   "metadata": {},
   "outputs": [],
   "source": [
    "shop_page=WebDriverWait(driver,10).until(expected_conditions.element_to_be_clickable((By.CSS_SELECTOR,'div[class=\"footer-links\"] a[data-click-intent-id=\"shop-link\"]')))\n",
    "driver.execute_script('arguments[0].click();',shop_page)"
   ]
  },
  {
   "cell_type": "code",
   "execution_count": null,
   "metadata": {},
   "outputs": [],
   "source": [
    "dropdown_element=WebDriverWait(driver,10).until(expected_conditions.element_to_be_clickable((By.CSS_SELECTOR,'div[class=\"sds-pagination\"] select[id=\"pagination-dropdown\"]')))\n",
    "select_article_quantity=Select(dropdown_element).select_by_index(4)"
   ]
  },
  {
   "cell_type": "code",
   "execution_count": null,
   "metadata": {},
   "outputs": [],
   "source": [
    "all_urls=[]\n",
    "\n",
    "while True:\n",
    "    next_page_button=WebDriverWait(driver,10).until(expected_conditions.element_to_be_clickable((By.CSS_SELECTOR,'div[class=\"sds-pagination__controls\"] a[id=\"next_paginate\"]')))\n",
    "    driver.execute_script('arguments[0].scrollIntoView();',next_page_button)\n",
    "    time.sleep(1)\n",
    "\n",
    "    articles=WebDriverWait(driver,30).until(expected_conditions.visibility_of_all_elements_located((By.CSS_SELECTOR,'div[class=\"vehicle-cards\"] div[class=\"vehicle-card vehicle-card-with-reviews ep-theme-hubcap\"] a[class=\"vehicle-card-link js-gallery-click-link\"]')))\n",
    "    for article in articles:\n",
    "        all_urls.append(article.get_attribute('href'))\n",
    "    time.sleep(1)\n",
    "    print(len(all_urls),end='\\r')\n",
    "\n",
    "    driver.execute_script('arguments[0].click();',next_page_button)\n",
    "    time.sleep(3)\n",
    "\n",
    "    "
   ]
  },
  {
   "cell_type": "code",
   "execution_count": 2,
   "metadata": {},
   "outputs": [],
   "source": [
    "path=r'D:\\python data\\ws_cars'"
   ]
  },
  {
   "cell_type": "code",
   "execution_count": null,
   "metadata": {},
   "outputs": [],
   "source": [
    "#pickle.dump(all_urls,open(os.path.join(path,'all_urls.pickle'),'wb'))\n",
    "all_urls=pickle.load(open(os.path.join(path,'all_urls.pickle'),'rb'))"
   ]
  },
  {
   "cell_type": "code",
   "execution_count": null,
   "metadata": {},
   "outputs": [],
   "source": [
    "all_urls=list(set(all_urls))\n",
    "len(all_urls)"
   ]
  },
  {
   "cell_type": "code",
   "execution_count": null,
   "metadata": {},
   "outputs": [],
   "source": [
    "def return_info_dict(car_url):\n",
    "    try:\n",
    "        soup=BeautifulSoup(requests.get(car_url).content,'html.parser')\n",
    "    except:\n",
    "        pass\n",
    "\n",
    "    #Main info\n",
    "    try:\n",
    "        condition=soup.select_one('div[class=\"title-section\"] p[class=\"new-used\"]').text.replace('\\n','')\n",
    "    except:\n",
    "        condition=None\n",
    "        \n",
    "    try:\n",
    "        car=soup.select_one('div[class=\"title-section\"] h1[class=\"listing-title\"]').text.replace('\\n','')\n",
    "    except:\n",
    "        car=None\n",
    "        \n",
    "    try:\n",
    "        mileage=soup.select_one('div[class=\"title-section\"] div[class=\"listing-mileage\"]').text.replace('\\n','')\n",
    "    except:\n",
    "        mileage=None\n",
    "        \n",
    "    try:\n",
    "        price=soup.select_one('div[class=\"price-section\"]').text.replace('\\n','')\n",
    "    except:\n",
    "        price=None\n",
    "        \n",
    "\n",
    "    #Basics\n",
    "    try:\n",
    "        basics_section_keys=soup.select('div[class=\"basics-content-wrapper\"] section[class=\"sds-page-section basics-section\"] dl[class=\"fancy-description-list\"] dt')\n",
    "        basics_section_values=soup.select('div[class=\"basics-content-wrapper\"] section[class=\"sds-page-section basics-section\"] dl[class=\"fancy-description-list\"] dd')\n",
    "        basics_dict={}\n",
    "        for key,value in zip(basics_section_keys,basics_section_values):\n",
    "            key=key.text.replace('\\n','')\n",
    "            value=value.text.replace('\\n','')\n",
    "            basics_dict[key]=value\n",
    "    except:\n",
    "        basics_dict=None\n",
    "\n",
    "    #Vehicle hist\n",
    "    try:\n",
    "        history_section_keys=soup.select('section[class=\"sds-page-section vehicle-history-section\"] dl[class=\"fancy-description-list\"] dt')\n",
    "        history_section_values=soup.select('section[class=\"sds-page-section vehicle-history-section\"] dl[class=\"fancy-description-list\"] dd')\n",
    "        history_dict={}\n",
    "        for key,value in zip(history_section_keys,history_section_values):\n",
    "            key=key.text.replace('\\n','')\n",
    "            value=value.text.replace('\\n','')\n",
    "            history_dict[key]=value\n",
    "    except:\n",
    "        history_dict=None\n",
    "\n",
    "    #seller info\n",
    "    try:\n",
    "        seller_rating=soup.select_one('section[class=\"seller-info\"] div[class=\"sds-rating\"] span[class=\"sds-rating__count\"]').text.replace('\\n','')\n",
    "    except:\n",
    "        seller_rating=None\n",
    "        \n",
    "    try:\n",
    "        seller_ratings_count=soup.select_one('section[class=\"seller-info\"] div[class=\"sds-rating\"] a[class=\"sds-rating__link sds-button-link\"]').text.replace('\\n','')\n",
    "    except:\n",
    "        seller_ratings_count=None\n",
    "        \n",
    "    try:\n",
    "        seller_address=soup.select_one('section[class=\"seller-info\"] div[class=\"dealer-address\"]').text.replace('\\n','')\n",
    "    except:\n",
    "        seller_address=None\n",
    "        \n",
    "\n",
    "    #Vehicle reviews\n",
    "    try:\n",
    "        vehicle_reviews_keys=soup.select('div[class=\"vehicle-reviews\"] div[class=\"review-breakdown\"] ul[class=\"sds-definition-list review-breakdown--list\"] li span[class=\"sds-definition-list__display-name\"]')\n",
    "        vehicle_reviews_values=soup.select('div[class=\"vehicle-reviews\"] div[class=\"review-breakdown\"] ul[class=\"sds-definition-list review-breakdown--list\"] li span[class=\"sds-definition-list__value\"]')\n",
    "        vehicle_reviews_dict={}\n",
    "        for key,value in zip(vehicle_reviews_keys,vehicle_reviews_values):\n",
    "            key=key.text.replace('\\n','')\n",
    "            value=value.text.replace('\\n','')\n",
    "            vehicle_reviews_dict[key]=value\n",
    "    except:\n",
    "        vehicle_reviews_dict=None\n",
    "\n",
    "    info_dict={'Car':car,'Condition':condition,'Mileage':mileage,'Price':price,'Basics Info':basics_dict,'Vehicle History Info':history_dict,'Vehicle Reviews Info':vehicle_reviews_dict,\n",
    "            'Seller Rating':seller_rating,'Seller Rating Count':seller_ratings_count,'Seller Address':seller_address}\n",
    "\n",
    "    return info_dict"
   ]
  },
  {
   "cell_type": "code",
   "execution_count": null,
   "metadata": {},
   "outputs": [],
   "source": [
    "max=0\n",
    "for file in os.listdir(path):\n",
    "    if 'all_data_' in file:\n",
    "        index=file.split('all_data_')[-1].split('.pickle')[0]\n",
    "        index=int(index)\n",
    "        if index>max:\n",
    "            max=index\n",
    "print(f'Max index: {max}')"
   ]
  },
  {
   "cell_type": "code",
   "execution_count": null,
   "metadata": {},
   "outputs": [],
   "source": [
    "all_data=[]\n",
    "for i,car_url in enumerate(all_urls,start=1):\n",
    "    if i<=max:\n",
    "        continue\n",
    "    info_dict=return_info_dict(car_url)\n",
    "    all_data.append(info_dict)\n",
    "\n",
    "    if i%1000==0 or i==len(all_urls):\n",
    "        pickle.dump(all_data,open(os.path.join(path,f'all_data_{i}.pickle'),'wb'))\n",
    "        all_data=[]\n",
    "\n",
    "\n",
    "    print(i,end='\\r')\n"
   ]
  },
  {
   "cell_type": "markdown",
   "metadata": {},
   "source": [
    "# Preprocessing"
   ]
  },
  {
   "cell_type": "code",
   "execution_count": null,
   "metadata": {},
   "outputs": [],
   "source": [
    "all_info=[]\n",
    "for file in os.listdir(path):\n",
    "    if 'all_data_' in file:\n",
    "        info=pickle.load(open(os.path.join(path,file),'rb'))\n",
    "        all_info=all_info+info\n",
    "len(all_info)"
   ]
  },
  {
   "cell_type": "code",
   "execution_count": null,
   "metadata": {},
   "outputs": [],
   "source": [
    "df=pd.DataFrame(all_info)"
   ]
  },
  {
   "cell_type": "code",
   "execution_count": null,
   "metadata": {},
   "outputs": [],
   "source": [
    "df"
   ]
  },
  {
   "cell_type": "code",
   "execution_count": null,
   "metadata": {},
   "outputs": [],
   "source": [
    "df.to_csv(os.path.join(path,'cars_for_sale(uncleaned).csv'),index=False)"
   ]
  },
  {
   "cell_type": "code",
   "execution_count": null,
   "metadata": {},
   "outputs": [],
   "source": [
    "df.isna().sum()"
   ]
  },
  {
   "cell_type": "code",
   "execution_count": null,
   "metadata": {},
   "outputs": [],
   "source": [
    "df=df.dropna(subset='Price')\n",
    "df=df.reset_index(drop=True)"
   ]
  },
  {
   "cell_type": "code",
   "execution_count": null,
   "metadata": {},
   "outputs": [],
   "source": [
    "make=df['Car'].apply(lambda x:x.split(' ')[1] if isinstance(x,str) else None)\n",
    "df=df.drop(columns='Make',errors='ignore')\n",
    "df.insert(0,'Make',make)"
   ]
  },
  {
   "cell_type": "code",
   "execution_count": null,
   "metadata": {},
   "outputs": [],
   "source": [
    "model=df['Car'].apply(lambda x:' '.join(x.split(' ')[1:]) if isinstance(x,str) else None).apply(lambda x:' '.join(x.split(' ')[1:]) if isinstance(x,str) else None)\n",
    "df=df.drop(columns='Model',errors='ignore')\n",
    "df.insert(1,'Model',model)"
   ]
  },
  {
   "cell_type": "code",
   "execution_count": null,
   "metadata": {},
   "outputs": [],
   "source": [
    "year=(df['Car'].str.split(' ').str[0]).apply(lambda x: int(x) if x else None)\n",
    "df.drop(columns='Year',errors='ignore')\n",
    "df.insert(2,'Year',year)"
   ]
  },
  {
   "cell_type": "code",
   "execution_count": null,
   "metadata": {},
   "outputs": [],
   "source": [
    "df=df.drop(columns='Car')"
   ]
  },
  {
   "cell_type": "code",
   "execution_count": null,
   "metadata": {},
   "outputs": [],
   "source": [
    "df['Condition']=df['Condition'].apply(lambda x:'Certified' if 'Certified' in str(x).title() else x)"
   ]
  },
  {
   "cell_type": "code",
   "execution_count": null,
   "metadata": {},
   "outputs": [],
   "source": [
    "df['Basics Info']=df['Basics Info'].apply(lambda x:x if isinstance(x,dict) and len(x)>0 else None)\n",
    "df['Vehicle History Info']=df['Vehicle History Info'].apply(lambda x:x if isinstance(x,dict) and len(x)>0 else None)\n",
    "df['Vehicle Reviews Info']=df['Vehicle Reviews Info'].apply(lambda x:x if isinstance(x,dict) and len(x)>0 else None)"
   ]
  },
  {
   "cell_type": "code",
   "execution_count": null,
   "metadata": {},
   "outputs": [],
   "source": [
    "df['Mileage']=df['Mileage'].apply(lambda x:x.strip().split(' mi')[0].replace(',','') if isinstance(x,str) else None).apply(pd.to_numeric)"
   ]
  },
  {
   "cell_type": "code",
   "execution_count": null,
   "metadata": {},
   "outputs": [],
   "source": [
    "price=df['Price'].apply(lambda x:x.split(' ')[0].split('MSRP')[0].split('$') if isinstance(x,str) else None)\n",
    "df['Price']=price.apply(lambda x:x[1].replace(',','') if isinstance(x,list) and len(x)>1 else x).apply(pd.to_numeric,errors='coerce')\n",
    "df['Price']=df['Price'].astype(float)\n",
    "\n",
    "df=df.dropna(subset='Price')\n",
    "df=df.reset_index(drop=True)"
   ]
  },
  {
   "cell_type": "code",
   "execution_count": null,
   "metadata": {},
   "outputs": [],
   "source": [
    "basics_df=pd.json_normalize(df['Basics Info']).drop(columns=['Mileage']).reset_index(drop=True)\n",
    "\n",
    "vehicle_history_df=pd.json_normalize(df['Vehicle History Info']).reset_index(drop=True)\n",
    "\n",
    "vehicle_reviews_df=pd.json_normalize(df['Vehicle Reviews Info']).reset_index(drop=True)\n",
    "vehicle_reviews_df.columns=[i+'_score' for i in vehicle_reviews_df.columns]\n",
    "\n",
    "df=pd.concat([df,basics_df,vehicle_history_df,vehicle_reviews_df],axis=1)\n",
    "\n",
    "df=df.drop(columns=['Basics Info','Vehicle History Info','Vehicle Reviews Info'])"
   ]
  },
  {
   "cell_type": "code",
   "execution_count": null,
   "metadata": {},
   "outputs": [],
   "source": [
    "df['Seller Rating Count']=df['Seller Rating Count'].apply(lambda x:x.split('(')[-1].split(' ')[0].replace(',','') if isinstance(x,str) else None).apply(pd.to_numeric)"
   ]
  },
  {
   "cell_type": "code",
   "execution_count": null,
   "metadata": {},
   "outputs": [],
   "source": [
    "df['Seller Rating']=df['Seller Rating'].apply(pd.to_numeric)"
   ]
  },
  {
   "cell_type": "code",
   "execution_count": null,
   "metadata": {},
   "outputs": [],
   "source": [
    "min_MPM=df['MPG'].apply(lambda x:x.split('Based')[0].split('–')[0] if isinstance(x,str) else None).apply(pd.to_numeric, errors='coerce')\n",
    "max_MPM=df['MPG'].apply(lambda x:x.split('Based')[0].split('–')[-1] if isinstance(x,str) else None).apply(pd.to_numeric, errors='coerce')\n",
    "\n",
    "df.insert(df.columns.get_loc('MPG')+1,'Min MPG',min_MPM)\n",
    "df.insert(df.columns.get_loc('MPG')+2,'Max MPG',max_MPM)\n",
    "df=df.drop(columns='MPG')"
   ]
  },
  {
   "cell_type": "code",
   "execution_count": null,
   "metadata": {},
   "outputs": [],
   "source": [
    "df['Fuel type']=df['Fuel type'].replace('– ',None)"
   ]
  },
  {
   "cell_type": "code",
   "execution_count": null,
   "metadata": {},
   "outputs": [],
   "source": [
    "import re\n",
    "\n",
    "def extract_number_before_L(string):\n",
    "    pattern = r'(\\d+(?:\\.\\d+)?|\\d+)L'\n",
    "    match = re.search(pattern, string)\n",
    "    if match:\n",
    "        return match.group(1)\n",
    "    else:\n",
    "        return None\n",
    "    \n",
    "\n",
    "engine_size=df['Engine'].apply(extract_number_before_L).apply(pd.to_numeric,errors='coerce')\n",
    "df.insert(df.columns.get_loc('Engine')+1,'Engine Size (L)',engine_size)\n",
    "df=df.drop(columns='Engine')"
   ]
  },
  {
   "cell_type": "code",
   "execution_count": null,
   "metadata": {},
   "outputs": [],
   "source": [
    "df['Accidents or damage']=df['Accidents or damage'].map({'At least 1 accident or damage reported':1,'None reported':0})\n",
    "df['Open recall']=df['Open recall'].apply(lambda x:1 if 'At least 1 open recall reported' in str(x) else 0)"
   ]
  },
  {
   "cell_type": "code",
   "execution_count": null,
   "metadata": {},
   "outputs": [],
   "source": [
    "df=df.replace({'Yes':True,'No':False})"
   ]
  },
  {
   "cell_type": "code",
   "execution_count": null,
   "metadata": {},
   "outputs": [],
   "source": [
    "df=df.replace({'–':None})"
   ]
  },
  {
   "cell_type": "code",
   "execution_count": null,
   "metadata": {},
   "outputs": [],
   "source": [
    "df[df.columns[df.columns.str.contains('_score')].values]=df[df.columns[df.columns.str.contains('_score')].values].apply(pd.to_numeric,errors='coerce')"
   ]
  },
  {
   "cell_type": "code",
   "execution_count": null,
   "metadata": {},
   "outputs": [],
   "source": [
    "columns_to_drop=['Seller Address','VIN','Stock #']\n",
    "df=df.drop(columns=columns_to_drop)"
   ]
  },
  {
   "cell_type": "code",
   "execution_count": null,
   "metadata": {},
   "outputs": [],
   "source": [
    "df.info()"
   ]
  },
  {
   "cell_type": "code",
   "execution_count": null,
   "metadata": {},
   "outputs": [],
   "source": [
    "for col in df.select_dtypes([object,bool]).columns:\n",
    "    try:\n",
    "        print(col,df[col].nunique())\n",
    "    except:\n",
    "        print(col)"
   ]
  },
  {
   "cell_type": "code",
   "execution_count": null,
   "metadata": {},
   "outputs": [],
   "source": [
    "columns_to_drop=['Model','Exterior color','Transmission']\n",
    "df=df.drop(columns=columns_to_drop)"
   ]
  },
  {
   "cell_type": "code",
   "execution_count": null,
   "metadata": {},
   "outputs": [],
   "source": [
    "for col in df.select_dtypes([object,bool]).columns:\n",
    "    try:\n",
    "        print(col,df[col].nunique())\n",
    "    except:\n",
    "        print(col)"
   ]
  },
  {
   "cell_type": "code",
   "execution_count": null,
   "metadata": {},
   "outputs": [],
   "source": [
    "df.isna().mean()*100"
   ]
  },
  {
   "cell_type": "code",
   "execution_count": null,
   "metadata": {},
   "outputs": [],
   "source": [
    "df.to_csv(os.path.join(path,'cars_for_sale(cleaned).csv'),index=False)"
   ]
  },
  {
   "cell_type": "markdown",
   "metadata": {},
   "source": [
    "# Machine Learning"
   ]
  },
  {
   "cell_type": "code",
   "execution_count": 3,
   "metadata": {},
   "outputs": [],
   "source": [
    "df=pd.read_csv(os.path.join(path,'cars_for_sale(cleaned).csv'))"
   ]
  },
  {
   "cell_type": "code",
   "execution_count": 4,
   "metadata": {},
   "outputs": [
    {
     "data": {
      "text/html": [
       "<div>\n",
       "<style scoped>\n",
       "    .dataframe tbody tr th:only-of-type {\n",
       "        vertical-align: middle;\n",
       "    }\n",
       "\n",
       "    .dataframe tbody tr th {\n",
       "        vertical-align: top;\n",
       "    }\n",
       "\n",
       "    .dataframe thead th {\n",
       "        text-align: right;\n",
       "    }\n",
       "</style>\n",
       "<table border=\"1\" class=\"dataframe\">\n",
       "  <thead>\n",
       "    <tr style=\"text-align: right;\">\n",
       "      <th></th>\n",
       "      <th>Make</th>\n",
       "      <th>Year</th>\n",
       "      <th>Condition</th>\n",
       "      <th>Mileage</th>\n",
       "      <th>Price</th>\n",
       "      <th>Seller Rating</th>\n",
       "      <th>Seller Rating Count</th>\n",
       "      <th>Interior color</th>\n",
       "      <th>Drivetrain</th>\n",
       "      <th>Min MPG</th>\n",
       "      <th>Max MPG</th>\n",
       "      <th>Fuel type</th>\n",
       "      <th>Engine Size (L)</th>\n",
       "      <th>Accidents or damage</th>\n",
       "      <th>1-owner vehicle</th>\n",
       "      <th>Personal use only</th>\n",
       "      <th>Clean title</th>\n",
       "      <th>Open recall</th>\n",
       "      <th>Comfort_score</th>\n",
       "      <th>Interior_score</th>\n",
       "      <th>Performance_score</th>\n",
       "      <th>Value_score</th>\n",
       "      <th>Exterior_score</th>\n",
       "      <th>Reliability_score</th>\n",
       "    </tr>\n",
       "  </thead>\n",
       "  <tbody>\n",
       "    <tr>\n",
       "      <th>0</th>\n",
       "      <td>Lexus</td>\n",
       "      <td>2024</td>\n",
       "      <td>New</td>\n",
       "      <td>0.0</td>\n",
       "      <td>112865.0</td>\n",
       "      <td>4.7</td>\n",
       "      <td>1261.0</td>\n",
       "      <td>Black</td>\n",
       "      <td>Rear-wheel Drive</td>\n",
       "      <td>15.0</td>\n",
       "      <td>25.0</td>\n",
       "      <td>Gasoline</td>\n",
       "      <td>5.0</td>\n",
       "      <td>NaN</td>\n",
       "      <td>NaN</td>\n",
       "      <td>NaN</td>\n",
       "      <td>NaN</td>\n",
       "      <td>0</td>\n",
       "      <td>NaN</td>\n",
       "      <td>NaN</td>\n",
       "      <td>NaN</td>\n",
       "      <td>NaN</td>\n",
       "      <td>NaN</td>\n",
       "      <td>NaN</td>\n",
       "    </tr>\n",
       "    <tr>\n",
       "      <th>1</th>\n",
       "      <td>Acura</td>\n",
       "      <td>2007</td>\n",
       "      <td>Used</td>\n",
       "      <td>61110.0</td>\n",
       "      <td>11295.0</td>\n",
       "      <td>4.2</td>\n",
       "      <td>440.0</td>\n",
       "      <td>–</td>\n",
       "      <td>Front-wheel Drive</td>\n",
       "      <td>22.0</td>\n",
       "      <td>31.0</td>\n",
       "      <td>Gasoline</td>\n",
       "      <td>2.4</td>\n",
       "      <td>1.0</td>\n",
       "      <td>True</td>\n",
       "      <td>True</td>\n",
       "      <td>NaN</td>\n",
       "      <td>0</td>\n",
       "      <td>NaN</td>\n",
       "      <td>NaN</td>\n",
       "      <td>NaN</td>\n",
       "      <td>NaN</td>\n",
       "      <td>NaN</td>\n",
       "      <td>NaN</td>\n",
       "    </tr>\n",
       "    <tr>\n",
       "      <th>2</th>\n",
       "      <td>McLaren</td>\n",
       "      <td>2016</td>\n",
       "      <td>Used</td>\n",
       "      <td>6305.0</td>\n",
       "      <td>219997.0</td>\n",
       "      <td>3.1</td>\n",
       "      <td>421.0</td>\n",
       "      <td>Carbon Black</td>\n",
       "      <td>Rear-wheel Drive</td>\n",
       "      <td>NaN</td>\n",
       "      <td>NaN</td>\n",
       "      <td>Gasoline</td>\n",
       "      <td>3.8</td>\n",
       "      <td>1.0</td>\n",
       "      <td>False</td>\n",
       "      <td>False</td>\n",
       "      <td>NaN</td>\n",
       "      <td>0</td>\n",
       "      <td>5.0</td>\n",
       "      <td>5.0</td>\n",
       "      <td>5.0</td>\n",
       "      <td>5.0</td>\n",
       "      <td>5.0</td>\n",
       "      <td>5.0</td>\n",
       "    </tr>\n",
       "    <tr>\n",
       "      <th>3</th>\n",
       "      <td>Audi</td>\n",
       "      <td>2016</td>\n",
       "      <td>Used</td>\n",
       "      <td>65715.0</td>\n",
       "      <td>23999.0</td>\n",
       "      <td>3.6</td>\n",
       "      <td>123.0</td>\n",
       "      <td>Black</td>\n",
       "      <td>All-wheel Drive</td>\n",
       "      <td>23.0</td>\n",
       "      <td>27.0</td>\n",
       "      <td>Gasoline</td>\n",
       "      <td>2.0</td>\n",
       "      <td>1.0</td>\n",
       "      <td>False</td>\n",
       "      <td>True</td>\n",
       "      <td>True</td>\n",
       "      <td>0</td>\n",
       "      <td>3.0</td>\n",
       "      <td>5.0</td>\n",
       "      <td>5.0</td>\n",
       "      <td>5.0</td>\n",
       "      <td>5.0</td>\n",
       "      <td>5.0</td>\n",
       "    </tr>\n",
       "    <tr>\n",
       "      <th>4</th>\n",
       "      <td>BMW</td>\n",
       "      <td>2018</td>\n",
       "      <td>Used</td>\n",
       "      <td>19830.0</td>\n",
       "      <td>39799.0</td>\n",
       "      <td>4.4</td>\n",
       "      <td>91.0</td>\n",
       "      <td>Black</td>\n",
       "      <td>All-wheel Drive</td>\n",
       "      <td>0.0</td>\n",
       "      <td>0.0</td>\n",
       "      <td>Gasoline</td>\n",
       "      <td>2.0</td>\n",
       "      <td>0.0</td>\n",
       "      <td>True</td>\n",
       "      <td>False</td>\n",
       "      <td>True</td>\n",
       "      <td>0</td>\n",
       "      <td>5.0</td>\n",
       "      <td>5.0</td>\n",
       "      <td>5.0</td>\n",
       "      <td>5.0</td>\n",
       "      <td>5.0</td>\n",
       "      <td>5.0</td>\n",
       "    </tr>\n",
       "    <tr>\n",
       "      <th>...</th>\n",
       "      <td>...</td>\n",
       "      <td>...</td>\n",
       "      <td>...</td>\n",
       "      <td>...</td>\n",
       "      <td>...</td>\n",
       "      <td>...</td>\n",
       "      <td>...</td>\n",
       "      <td>...</td>\n",
       "      <td>...</td>\n",
       "      <td>...</td>\n",
       "      <td>...</td>\n",
       "      <td>...</td>\n",
       "      <td>...</td>\n",
       "      <td>...</td>\n",
       "      <td>...</td>\n",
       "      <td>...</td>\n",
       "      <td>...</td>\n",
       "      <td>...</td>\n",
       "      <td>...</td>\n",
       "      <td>...</td>\n",
       "      <td>...</td>\n",
       "      <td>...</td>\n",
       "      <td>...</td>\n",
       "      <td>...</td>\n",
       "    </tr>\n",
       "    <tr>\n",
       "      <th>9011</th>\n",
       "      <td>Jeep</td>\n",
       "      <td>2024</td>\n",
       "      <td>New</td>\n",
       "      <td>10.0</td>\n",
       "      <td>52301.0</td>\n",
       "      <td>4.0</td>\n",
       "      <td>54.0</td>\n",
       "      <td>Global Black</td>\n",
       "      <td>Four-wheel Drive</td>\n",
       "      <td>18.0</td>\n",
       "      <td>25.0</td>\n",
       "      <td>Gasoline</td>\n",
       "      <td>3.6</td>\n",
       "      <td>NaN</td>\n",
       "      <td>NaN</td>\n",
       "      <td>NaN</td>\n",
       "      <td>NaN</td>\n",
       "      <td>0</td>\n",
       "      <td>5.0</td>\n",
       "      <td>5.0</td>\n",
       "      <td>5.0</td>\n",
       "      <td>5.0</td>\n",
       "      <td>5.0</td>\n",
       "      <td>5.0</td>\n",
       "    </tr>\n",
       "    <tr>\n",
       "      <th>9012</th>\n",
       "      <td>BMW</td>\n",
       "      <td>2022</td>\n",
       "      <td>Used</td>\n",
       "      <td>48804.0</td>\n",
       "      <td>27979.0</td>\n",
       "      <td>4.8</td>\n",
       "      <td>3739.0</td>\n",
       "      <td>Canberra Beige</td>\n",
       "      <td>All-wheel Drive</td>\n",
       "      <td>21.0</td>\n",
       "      <td>28.0</td>\n",
       "      <td>Gasoline</td>\n",
       "      <td>2.0</td>\n",
       "      <td>0.0</td>\n",
       "      <td>True</td>\n",
       "      <td>False</td>\n",
       "      <td>NaN</td>\n",
       "      <td>0</td>\n",
       "      <td>NaN</td>\n",
       "      <td>NaN</td>\n",
       "      <td>NaN</td>\n",
       "      <td>NaN</td>\n",
       "      <td>NaN</td>\n",
       "      <td>NaN</td>\n",
       "    </tr>\n",
       "    <tr>\n",
       "      <th>9013</th>\n",
       "      <td>GMC</td>\n",
       "      <td>2024</td>\n",
       "      <td>New</td>\n",
       "      <td>3.0</td>\n",
       "      <td>51080.0</td>\n",
       "      <td>4.5</td>\n",
       "      <td>3896.0</td>\n",
       "      <td>Black</td>\n",
       "      <td>Four-wheel Drive</td>\n",
       "      <td>17.0</td>\n",
       "      <td>20.0</td>\n",
       "      <td>Gasoline</td>\n",
       "      <td>5.3</td>\n",
       "      <td>NaN</td>\n",
       "      <td>NaN</td>\n",
       "      <td>NaN</td>\n",
       "      <td>NaN</td>\n",
       "      <td>0</td>\n",
       "      <td>5.0</td>\n",
       "      <td>5.0</td>\n",
       "      <td>5.0</td>\n",
       "      <td>4.0</td>\n",
       "      <td>5.0</td>\n",
       "      <td>5.0</td>\n",
       "    </tr>\n",
       "    <tr>\n",
       "      <th>9014</th>\n",
       "      <td>GMC</td>\n",
       "      <td>2012</td>\n",
       "      <td>Used</td>\n",
       "      <td>146694.0</td>\n",
       "      <td>8995.0</td>\n",
       "      <td>NaN</td>\n",
       "      <td>NaN</td>\n",
       "      <td>Jet Black</td>\n",
       "      <td>All-wheel Drive</td>\n",
       "      <td>20.0</td>\n",
       "      <td>22.0</td>\n",
       "      <td>Gasoline</td>\n",
       "      <td>2.4</td>\n",
       "      <td>1.0</td>\n",
       "      <td>False</td>\n",
       "      <td>True</td>\n",
       "      <td>NaN</td>\n",
       "      <td>1</td>\n",
       "      <td>NaN</td>\n",
       "      <td>NaN</td>\n",
       "      <td>NaN</td>\n",
       "      <td>NaN</td>\n",
       "      <td>NaN</td>\n",
       "      <td>NaN</td>\n",
       "    </tr>\n",
       "    <tr>\n",
       "      <th>9015</th>\n",
       "      <td>Subaru</td>\n",
       "      <td>2024</td>\n",
       "      <td>New</td>\n",
       "      <td>4.0</td>\n",
       "      <td>42014.0</td>\n",
       "      <td>NaN</td>\n",
       "      <td>NaN</td>\n",
       "      <td>Black</td>\n",
       "      <td>All-wheel Drive</td>\n",
       "      <td>22.0</td>\n",
       "      <td>29.0</td>\n",
       "      <td>Gasoline</td>\n",
       "      <td>2.4</td>\n",
       "      <td>NaN</td>\n",
       "      <td>NaN</td>\n",
       "      <td>NaN</td>\n",
       "      <td>NaN</td>\n",
       "      <td>0</td>\n",
       "      <td>4.0</td>\n",
       "      <td>4.0</td>\n",
       "      <td>5.0</td>\n",
       "      <td>3.0</td>\n",
       "      <td>5.0</td>\n",
       "      <td>4.0</td>\n",
       "    </tr>\n",
       "  </tbody>\n",
       "</table>\n",
       "<p>9016 rows × 24 columns</p>\n",
       "</div>"
      ],
      "text/plain": [
       "         Make  Year Condition   Mileage     Price  Seller Rating  \\\n",
       "0       Lexus  2024       New       0.0  112865.0            4.7   \n",
       "1       Acura  2007      Used   61110.0   11295.0            4.2   \n",
       "2     McLaren  2016      Used    6305.0  219997.0            3.1   \n",
       "3        Audi  2016      Used   65715.0   23999.0            3.6   \n",
       "4         BMW  2018      Used   19830.0   39799.0            4.4   \n",
       "...       ...   ...       ...       ...       ...            ...   \n",
       "9011     Jeep  2024       New      10.0   52301.0            4.0   \n",
       "9012      BMW  2022      Used   48804.0   27979.0            4.8   \n",
       "9013      GMC  2024       New       3.0   51080.0            4.5   \n",
       "9014      GMC  2012      Used  146694.0    8995.0            NaN   \n",
       "9015   Subaru  2024       New       4.0   42014.0            NaN   \n",
       "\n",
       "      Seller Rating Count   Interior color          Drivetrain  Min MPG  \\\n",
       "0                  1261.0           Black    Rear-wheel Drive      15.0   \n",
       "1                   440.0               –   Front-wheel Drive      22.0   \n",
       "2                   421.0    Carbon Black    Rear-wheel Drive       NaN   \n",
       "3                   123.0           Black     All-wheel Drive      23.0   \n",
       "4                    91.0           Black     All-wheel Drive       0.0   \n",
       "...                   ...              ...                 ...      ...   \n",
       "9011                 54.0    Global Black    Four-wheel Drive      18.0   \n",
       "9012               3739.0  Canberra Beige     All-wheel Drive      21.0   \n",
       "9013               3896.0           Black    Four-wheel Drive      17.0   \n",
       "9014                  NaN       Jet Black     All-wheel Drive      20.0   \n",
       "9015                  NaN           Black     All-wheel Drive      22.0   \n",
       "\n",
       "      Max MPG  Fuel type  Engine Size (L)  Accidents or damage  \\\n",
       "0        25.0  Gasoline               5.0                  NaN   \n",
       "1        31.0  Gasoline               2.4                  1.0   \n",
       "2         NaN  Gasoline               3.8                  1.0   \n",
       "3        27.0  Gasoline               2.0                  1.0   \n",
       "4         0.0  Gasoline               2.0                  0.0   \n",
       "...       ...        ...              ...                  ...   \n",
       "9011     25.0  Gasoline               3.6                  NaN   \n",
       "9012     28.0  Gasoline               2.0                  0.0   \n",
       "9013     20.0  Gasoline               5.3                  NaN   \n",
       "9014     22.0  Gasoline               2.4                  1.0   \n",
       "9015     29.0  Gasoline               2.4                  NaN   \n",
       "\n",
       "     1-owner vehicle Personal use only Clean title  Open recall  \\\n",
       "0                NaN               NaN         NaN            0   \n",
       "1               True              True         NaN            0   \n",
       "2              False             False         NaN            0   \n",
       "3              False              True        True            0   \n",
       "4               True             False        True            0   \n",
       "...              ...               ...         ...          ...   \n",
       "9011             NaN               NaN         NaN            0   \n",
       "9012            True             False         NaN            0   \n",
       "9013             NaN               NaN         NaN            0   \n",
       "9014           False              True         NaN            1   \n",
       "9015             NaN               NaN         NaN            0   \n",
       "\n",
       "      Comfort_score  Interior_score  Performance_score  Value_score  \\\n",
       "0               NaN             NaN                NaN          NaN   \n",
       "1               NaN             NaN                NaN          NaN   \n",
       "2               5.0             5.0                5.0          5.0   \n",
       "3               3.0             5.0                5.0          5.0   \n",
       "4               5.0             5.0                5.0          5.0   \n",
       "...             ...             ...                ...          ...   \n",
       "9011            5.0             5.0                5.0          5.0   \n",
       "9012            NaN             NaN                NaN          NaN   \n",
       "9013            5.0             5.0                5.0          4.0   \n",
       "9014            NaN             NaN                NaN          NaN   \n",
       "9015            4.0             4.0                5.0          3.0   \n",
       "\n",
       "      Exterior_score  Reliability_score  \n",
       "0                NaN                NaN  \n",
       "1                NaN                NaN  \n",
       "2                5.0                5.0  \n",
       "3                5.0                5.0  \n",
       "4                5.0                5.0  \n",
       "...              ...                ...  \n",
       "9011             5.0                5.0  \n",
       "9012             NaN                NaN  \n",
       "9013             5.0                5.0  \n",
       "9014             NaN                NaN  \n",
       "9015             5.0                4.0  \n",
       "\n",
       "[9016 rows x 24 columns]"
      ]
     },
     "execution_count": 4,
     "metadata": {},
     "output_type": "execute_result"
    }
   ],
   "source": [
    "df"
   ]
  },
  {
   "cell_type": "code",
   "execution_count": 5,
   "metadata": {},
   "outputs": [
    {
     "data": {
      "text/plain": [
       "Make                   0.000000\n",
       "Year                   0.000000\n",
       "Condition              0.000000\n",
       "Mileage                0.016526\n",
       "Price                  0.000000\n",
       "Seller Rating          0.150288\n",
       "Seller Rating Count    0.150288\n",
       "Interior color         0.000000\n",
       "Drivetrain             0.000000\n",
       "Min MPG                0.176908\n",
       "Max MPG                0.176908\n",
       "Fuel type              0.063776\n",
       "Engine Size (L)        0.084849\n",
       "Accidents or damage    0.401065\n",
       "1-owner vehicle        0.403949\n",
       "Personal use only      0.401065\n",
       "Clean title            0.852374\n",
       "Open recall            0.000000\n",
       "Comfort_score          0.513531\n",
       "Interior_score         0.513531\n",
       "Performance_score      0.513531\n",
       "Value_score            0.513531\n",
       "Exterior_score         0.513531\n",
       "Reliability_score      0.521961\n",
       "dtype: float64"
      ]
     },
     "execution_count": 5,
     "metadata": {},
     "output_type": "execute_result"
    }
   ],
   "source": [
    "df.isna().mean()"
   ]
  },
  {
   "cell_type": "code",
   "execution_count": 6,
   "metadata": {},
   "outputs": [],
   "source": [
    "for col in df.select_dtypes([object]).columns:\n",
    "    dummies=pd.get_dummies(df[col],prefix=col,dummy_na=False)\n",
    "    df=df.drop(columns=col)\n",
    "    df=pd.concat([df,dummies],axis=1)"
   ]
  },
  {
   "cell_type": "code",
   "execution_count": 7,
   "metadata": {},
   "outputs": [
    {
     "data": {
      "text/plain": [
       "(9016, 711)"
      ]
     },
     "execution_count": 7,
     "metadata": {},
     "output_type": "execute_result"
    }
   ],
   "source": [
    "df.shape"
   ]
  },
  {
   "cell_type": "code",
   "execution_count": 8,
   "metadata": {},
   "outputs": [],
   "source": [
    "X=df.drop(columns='Price')\n",
    "y=df['Price']\n",
    "\n",
    "from sklearn.model_selection import train_test_split\n",
    "\n",
    "X_train,X_test,y_train,y_test=train_test_split(X,y,test_size=0.2)\n",
    "\n",
    "X_train_as_np, X_test_as_np ,y_train_as_np ,y_test_as_np = np.array(X_train), np.array(X_test), np.array(y_train), np.array(y_test) "
   ]
  },
  {
   "cell_type": "code",
   "execution_count": 9,
   "metadata": {},
   "outputs": [],
   "source": [
    "from xgboost import XGBRegressor\n",
    "best_model=XGBRegressor()"
   ]
  },
  {
   "cell_type": "code",
   "execution_count": 10,
   "metadata": {},
   "outputs": [
    {
     "data": {
      "text/html": [
       "<style>#sk-container-id-1 {color: black;}#sk-container-id-1 pre{padding: 0;}#sk-container-id-1 div.sk-toggleable {background-color: white;}#sk-container-id-1 label.sk-toggleable__label {cursor: pointer;display: block;width: 100%;margin-bottom: 0;padding: 0.3em;box-sizing: border-box;text-align: center;}#sk-container-id-1 label.sk-toggleable__label-arrow:before {content: \"▸\";float: left;margin-right: 0.25em;color: #696969;}#sk-container-id-1 label.sk-toggleable__label-arrow:hover:before {color: black;}#sk-container-id-1 div.sk-estimator:hover label.sk-toggleable__label-arrow:before {color: black;}#sk-container-id-1 div.sk-toggleable__content {max-height: 0;max-width: 0;overflow: hidden;text-align: left;background-color: #f0f8ff;}#sk-container-id-1 div.sk-toggleable__content pre {margin: 0.2em;color: black;border-radius: 0.25em;background-color: #f0f8ff;}#sk-container-id-1 input.sk-toggleable__control:checked~div.sk-toggleable__content {max-height: 200px;max-width: 100%;overflow: auto;}#sk-container-id-1 input.sk-toggleable__control:checked~label.sk-toggleable__label-arrow:before {content: \"▾\";}#sk-container-id-1 div.sk-estimator input.sk-toggleable__control:checked~label.sk-toggleable__label {background-color: #d4ebff;}#sk-container-id-1 div.sk-label input.sk-toggleable__control:checked~label.sk-toggleable__label {background-color: #d4ebff;}#sk-container-id-1 input.sk-hidden--visually {border: 0;clip: rect(1px 1px 1px 1px);clip: rect(1px, 1px, 1px, 1px);height: 1px;margin: -1px;overflow: hidden;padding: 0;position: absolute;width: 1px;}#sk-container-id-1 div.sk-estimator {font-family: monospace;background-color: #f0f8ff;border: 1px dotted black;border-radius: 0.25em;box-sizing: border-box;margin-bottom: 0.5em;}#sk-container-id-1 div.sk-estimator:hover {background-color: #d4ebff;}#sk-container-id-1 div.sk-parallel-item::after {content: \"\";width: 100%;border-bottom: 1px solid gray;flex-grow: 1;}#sk-container-id-1 div.sk-label:hover label.sk-toggleable__label {background-color: #d4ebff;}#sk-container-id-1 div.sk-serial::before {content: \"\";position: absolute;border-left: 1px solid gray;box-sizing: border-box;top: 0;bottom: 0;left: 50%;z-index: 0;}#sk-container-id-1 div.sk-serial {display: flex;flex-direction: column;align-items: center;background-color: white;padding-right: 0.2em;padding-left: 0.2em;position: relative;}#sk-container-id-1 div.sk-item {position: relative;z-index: 1;}#sk-container-id-1 div.sk-parallel {display: flex;align-items: stretch;justify-content: center;background-color: white;position: relative;}#sk-container-id-1 div.sk-item::before, #sk-container-id-1 div.sk-parallel-item::before {content: \"\";position: absolute;border-left: 1px solid gray;box-sizing: border-box;top: 0;bottom: 0;left: 50%;z-index: -1;}#sk-container-id-1 div.sk-parallel-item {display: flex;flex-direction: column;z-index: 1;position: relative;background-color: white;}#sk-container-id-1 div.sk-parallel-item:first-child::after {align-self: flex-end;width: 50%;}#sk-container-id-1 div.sk-parallel-item:last-child::after {align-self: flex-start;width: 50%;}#sk-container-id-1 div.sk-parallel-item:only-child::after {width: 0;}#sk-container-id-1 div.sk-dashed-wrapped {border: 1px dashed gray;margin: 0 0.4em 0.5em 0.4em;box-sizing: border-box;padding-bottom: 0.4em;background-color: white;}#sk-container-id-1 div.sk-label label {font-family: monospace;font-weight: bold;display: inline-block;line-height: 1.2em;}#sk-container-id-1 div.sk-label-container {text-align: center;}#sk-container-id-1 div.sk-container {/* jupyter's `normalize.less` sets `[hidden] { display: none; }` but bootstrap.min.css set `[hidden] { display: none !important; }` so we also need the `!important` here to be able to override the default hidden behavior on the sphinx rendered scikit-learn.org. See: https://github.com/scikit-learn/scikit-learn/issues/21755 */display: inline-block !important;position: relative;}#sk-container-id-1 div.sk-text-repr-fallback {display: none;}</style><div id=\"sk-container-id-1\" class=\"sk-top-container\"><div class=\"sk-text-repr-fallback\"><pre>XGBRegressor(base_score=None, booster=None, callbacks=None,\n",
       "             colsample_bylevel=None, colsample_bynode=None,\n",
       "             colsample_bytree=None, device=None, early_stopping_rounds=None,\n",
       "             enable_categorical=False, eval_metric=None, feature_types=None,\n",
       "             gamma=None, grow_policy=None, importance_type=None,\n",
       "             interaction_constraints=None, learning_rate=None, max_bin=None,\n",
       "             max_cat_threshold=None, max_cat_to_onehot=None,\n",
       "             max_delta_step=None, max_depth=None, max_leaves=None,\n",
       "             min_child_weight=None, missing=nan, monotone_constraints=None,\n",
       "             multi_strategy=None, n_estimators=None, n_jobs=None,\n",
       "             num_parallel_tree=None, random_state=None, ...)</pre><b>In a Jupyter environment, please rerun this cell to show the HTML representation or trust the notebook. <br />On GitHub, the HTML representation is unable to render, please try loading this page with nbviewer.org.</b></div><div class=\"sk-container\" hidden><div class=\"sk-item\"><div class=\"sk-estimator sk-toggleable\"><input class=\"sk-toggleable__control sk-hidden--visually\" id=\"sk-estimator-id-1\" type=\"checkbox\" checked><label for=\"sk-estimator-id-1\" class=\"sk-toggleable__label sk-toggleable__label-arrow\">XGBRegressor</label><div class=\"sk-toggleable__content\"><pre>XGBRegressor(base_score=None, booster=None, callbacks=None,\n",
       "             colsample_bylevel=None, colsample_bynode=None,\n",
       "             colsample_bytree=None, device=None, early_stopping_rounds=None,\n",
       "             enable_categorical=False, eval_metric=None, feature_types=None,\n",
       "             gamma=None, grow_policy=None, importance_type=None,\n",
       "             interaction_constraints=None, learning_rate=None, max_bin=None,\n",
       "             max_cat_threshold=None, max_cat_to_onehot=None,\n",
       "             max_delta_step=None, max_depth=None, max_leaves=None,\n",
       "             min_child_weight=None, missing=nan, monotone_constraints=None,\n",
       "             multi_strategy=None, n_estimators=None, n_jobs=None,\n",
       "             num_parallel_tree=None, random_state=None, ...)</pre></div></div></div></div></div>"
      ],
      "text/plain": [
       "XGBRegressor(base_score=None, booster=None, callbacks=None,\n",
       "             colsample_bylevel=None, colsample_bynode=None,\n",
       "             colsample_bytree=None, device=None, early_stopping_rounds=None,\n",
       "             enable_categorical=False, eval_metric=None, feature_types=None,\n",
       "             gamma=None, grow_policy=None, importance_type=None,\n",
       "             interaction_constraints=None, learning_rate=None, max_bin=None,\n",
       "             max_cat_threshold=None, max_cat_to_onehot=None,\n",
       "             max_delta_step=None, max_depth=None, max_leaves=None,\n",
       "             min_child_weight=None, missing=nan, monotone_constraints=None,\n",
       "             multi_strategy=None, n_estimators=None, n_jobs=None,\n",
       "             num_parallel_tree=None, random_state=None, ...)"
      ]
     },
     "execution_count": 10,
     "metadata": {},
     "output_type": "execute_result"
    }
   ],
   "source": [
    "best_model.fit(X_train,y_train)"
   ]
  },
  {
   "cell_type": "code",
   "execution_count": 11,
   "metadata": {},
   "outputs": [],
   "source": [
    "train_prediction=best_model.predict(X_train)\n",
    "test_prediction=best_model.predict(X_test)"
   ]
  },
  {
   "cell_type": "code",
   "execution_count": 12,
   "metadata": {},
   "outputs": [
    {
     "name": "stdout",
     "output_type": "stream",
     "text": [
      "{'R2_train': 0.9845983203061889, 'MAE_train': 3685.616536830705, 'RMSE_train': 5429.643127407667}\n",
      "{'R2_test': 0.9333146322598123, 'MAE_test': 4714.329515410633, 'RMSE_test': 8157.184267805375}\n"
     ]
    }
   ],
   "source": [
    "from sklearn import metrics\n",
    "r2_train=metrics.r2_score(train_prediction,y_train)\n",
    "r2_test=metrics.r2_score(test_prediction,y_test)\n",
    "mae_train=metrics.mean_absolute_error(train_prediction,y_train)\n",
    "mae_test=metrics.mean_absolute_error(test_prediction,y_test)\n",
    "rmse_train=metrics.mean_squared_error(train_prediction,y_train,squared=False)\n",
    "rmse_test=metrics.mean_squared_error(test_prediction,y_test,squared=False)\n",
    "train_scores={'R2_train':r2_train,'MAE_train':mae_train,'RMSE_train':rmse_train}\n",
    "test_scores={'R2_test':r2_test,'MAE_test':mae_test,'RMSE_test':rmse_test}\n",
    "print(train_scores)\n",
    "print(test_scores)"
   ]
  },
  {
   "cell_type": "code",
   "execution_count": 13,
   "metadata": {},
   "outputs": [
    {
     "data": {
      "image/png": "[encoded data removed]",
      "text/plain": [
       "<Figure size 1500x500 with 2 Axes>"
      ]
     },
     "metadata": {},
     "output_type": "display_data"
    }
   ],
   "source": [
    "abs_error=np.abs(y_test-test_prediction)\n",
    "\n",
    "fig, (ax1,ax2)=plt.subplots(1,2,figsize=(15,5))\n",
    "ax1.scatter(y_train,train_prediction)\n",
    "ax1.set_xlabel('real')\n",
    "ax1.set_ylabel('prediction')\n",
    "ax1.set_title('train')\n",
    "ax2.scatter(y_test,test_prediction,c=abs_error,cmap='Reds_r',alpha=0.5)\n",
    "ax2.set_xlabel('real')\n",
    "ax2.set_ylabel('prediction')\n",
    "ax2.set_title('test')\n",
    "plt.show()"
   ]
  },
  {
   "cell_type": "code",
   "execution_count": 14,
   "metadata": {},
   "outputs": [
    {
     "data": {
      "image/png": "[encoded data removed]",
      "text/plain": [
       "<Figure size 640x480 with 1 Axes>"
      ]
     },
     "metadata": {},
     "output_type": "display_data"
    }
   ],
   "source": [
    "feature_names=best_model.feature_names_in_\n",
    "weights=best_model.feature_importances_\n",
    "\n",
    "weights_df=pd.DataFrame({'feature_names':feature_names,'weights':weights})\n",
    "weights_df_grouped=weights_df.groupby(weights_df['feature_names'].str.split('_').str[0])['weights'].sum()\n",
    "\n",
    "plt.barh(y=weights_df_grouped.index,width=weights_df_grouped.values)\n",
    "plt.title('Features Importances')\n",
    "plt.show()"
   ]
  },
  {
   "cell_type": "code",
   "execution_count": null,
   "metadata": {},
   "outputs": [],
   "source": []
  }
 ],
 "metadata": {
  "kernelspec": {
   "display_name": "Python 3",
   "language": "python",
   "name": "python3"
  },
  "language_info": {
   "codemirror_mode": {
    "name": "ipython",
    "version": 3
   },
   "file_extension": ".py",
   "mimetype": "text/x-python",
   "name": "python",
   "nbconvert_exporter": "python",
   "pygments_lexer": "ipython3",
   "version": "3.11.3"
  }
 },
 "nbformat": 4,
 "nbformat_minor": 2
}
