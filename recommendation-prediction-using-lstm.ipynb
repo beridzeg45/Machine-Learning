{
 "cells": [
  {
   "cell_type": "code",
   "execution_count": 1,
   "id": "101d4179",
   "metadata": {
    "execution": {
     "iopub.execute_input": "2024-01-29T18:06:21.688899Z",
     "iopub.status.busy": "2024-01-29T18:06:21.688426Z",
     "iopub.status.idle": "2024-01-29T18:06:22.132898Z",
     "shell.execute_reply": "2024-01-29T18:06:22.131977Z"
    },
    "papermill": {
     "duration": 0.46474,
     "end_time": "2024-01-29T18:06:22.135475",
     "exception": false,
     "start_time": "2024-01-29T18:06:21.670735",
     "status": "completed"
    },
    "tags": []
   },
   "outputs": [
    {
     "name": "stdout",
     "output_type": "stream",
     "text": [
      "/kaggle/input/word-vectors-50d/glove.6B.50d.txt\n",
      "/kaggle/input/british-airline-review-dataset/airline_review.csv\n"
     ]
    }
   ],
   "source": [
    "# This Python 3 environment comes with many helpful analytics libraries installed\n",
    "# It is defined by the kaggle/python Docker image: https://github.com/kaggle/docker-python\n",
    "# For example, here's several helpful packages to load\n",
    "\n",
    "import numpy as np # linear algebra\n",
    "import pandas as pd # data processing, CSV file I/O (e.g. pd.read_csv)\n",
    "\n",
    "# Input data files are available in the read-only \"../input/\" directory\n",
    "# For example, running this (by clicking run or pressing Shift+Enter) will list all files under the input directory\n",
    "\n",
    "import os\n",
    "for dirname, _, filenames in os.walk('/kaggle/input'):\n",
    "    for filename in filenames:\n",
    "        print(os.path.join(dirname, filename))\n",
    "\n",
    "# You can write up to 20GB to the current directory (/kaggle/working/) that gets preserved as output when you create a version using \"Save & Run All\" \n",
    "# You can also write temporary files to /kaggle/temp/, but they won't be saved outside of the current session"
   ]
  },
  {
   "cell_type": "code",
   "execution_count": 2,
   "id": "0d656177",
   "metadata": {
    "execution": {
     "iopub.execute_input": "2024-01-29T18:06:22.167689Z",
     "iopub.status.busy": "2024-01-29T18:06:22.167150Z",
     "iopub.status.idle": "2024-01-29T18:06:22.173844Z",
     "shell.execute_reply": "2024-01-29T18:06:22.172570Z"
    },
    "papermill": {
     "duration": 0.025487,
     "end_time": "2024-01-29T18:06:22.176201",
     "exception": false,
     "start_time": "2024-01-29T18:06:22.150714",
     "status": "completed"
    },
    "tags": []
   },
   "outputs": [],
   "source": [
    "import pandas as pd \n",
    "import numpy as np \n",
    "import datetime as dt\n",
    "\n",
    "import matplotlib.pyplot as plt\n",
    "plt.style.use('ggplot')"
   ]
  },
  {
   "cell_type": "code",
   "execution_count": 3,
   "id": "1e60c30d",
   "metadata": {
    "execution": {
     "iopub.execute_input": "2024-01-29T18:06:22.208272Z",
     "iopub.status.busy": "2024-01-29T18:06:22.207869Z",
     "iopub.status.idle": "2024-01-29T18:06:33.298758Z",
     "shell.execute_reply": "2024-01-29T18:06:33.297144Z"
    },
    "papermill": {
     "duration": 11.110235,
     "end_time": "2024-01-29T18:06:33.301555",
     "exception": false,
     "start_time": "2024-01-29T18:06:22.191320",
     "status": "completed"
    },
    "tags": []
   },
   "outputs": [
    {
     "name": "stdout",
     "output_type": "stream",
     "text": [
      "[nltk_data] Downloading package omw-1.4 to /usr/share/nltk_data...\n",
      "[nltk_data] Downloading package wordnet to /usr/share/nltk_data...\n",
      "[nltk_data]   Package wordnet is already up-to-date!\n",
      "[nltk_data] Downloading package wordnet2022 to /usr/share/nltk_data...\n",
      "[nltk_data]   Unzipping corpora/wordnet2022.zip.\n"
     ]
    }
   ],
   "source": [
    "from spacy import load\n",
    "import nltk\n",
    "\n",
    "nltk.download('omw-1.4')\n",
    "nltk.download('wordnet')\n",
    "nltk.download('wordnet2022')\n",
    "nlp = load('en_core_web_sm')\n",
    "\n",
    "! cp -rf /usr/share/nltk_data/corpora/wordnet2022 /usr/share/nltk_data/corpora/wordnet # temp fix for lookup error."
   ]
  },
  {
   "cell_type": "code",
   "execution_count": 4,
   "id": "32d85de5",
   "metadata": {
    "execution": {
     "iopub.execute_input": "2024-01-29T18:06:33.335121Z",
     "iopub.status.busy": "2024-01-29T18:06:33.334071Z",
     "iopub.status.idle": "2024-01-29T18:06:33.461231Z",
     "shell.execute_reply": "2024-01-29T18:06:33.460205Z"
    },
    "papermill": {
     "duration": 0.147535,
     "end_time": "2024-01-29T18:06:33.464548",
     "exception": false,
     "start_time": "2024-01-29T18:06:33.317013",
     "status": "completed"
    },
    "tags": []
   },
   "outputs": [],
   "source": [
    "df=pd.read_csv('/kaggle/input/british-airline-review-dataset/airline_review.csv')"
   ]
  },
  {
   "cell_type": "code",
   "execution_count": 5,
   "id": "aa4c0342",
   "metadata": {
    "execution": {
     "iopub.execute_input": "2024-01-29T18:06:33.497909Z",
     "iopub.status.busy": "2024-01-29T18:06:33.497528Z",
     "iopub.status.idle": "2024-01-29T18:06:33.519184Z",
     "shell.execute_reply": "2024-01-29T18:06:33.518052Z"
    },
    "papermill": {
     "duration": 0.041947,
     "end_time": "2024-01-29T18:06:33.522039",
     "exception": false,
     "start_time": "2024-01-29T18:06:33.480092",
     "status": "completed"
    },
    "tags": []
   },
   "outputs": [],
   "source": [
    "df=df.drop(columns='Unnamed: 0')"
   ]
  },
  {
   "cell_type": "code",
   "execution_count": 6,
   "id": "2a14acd4",
   "metadata": {
    "execution": {
     "iopub.execute_input": "2024-01-29T18:06:33.554873Z",
     "iopub.status.busy": "2024-01-29T18:06:33.554452Z",
     "iopub.status.idle": "2024-01-29T18:06:33.572674Z",
     "shell.execute_reply": "2024-01-29T18:06:33.571812Z"
    },
    "papermill": {
     "duration": 0.037194,
     "end_time": "2024-01-29T18:06:33.575191",
     "exception": false,
     "start_time": "2024-01-29T18:06:33.537997",
     "status": "completed"
    },
    "tags": []
   },
   "outputs": [],
   "source": [
    "df['date']=pd.to_datetime(df['date'],errors='coerce')"
   ]
  },
  {
   "cell_type": "code",
   "execution_count": 7,
   "id": "c2f7688f",
   "metadata": {
    "execution": {
     "iopub.execute_input": "2024-01-29T18:06:33.609039Z",
     "iopub.status.busy": "2024-01-29T18:06:33.608605Z",
     "iopub.status.idle": "2024-01-29T18:06:33.637906Z",
     "shell.execute_reply": "2024-01-29T18:06:33.636842Z"
    },
    "papermill": {
     "duration": 0.050283,
     "end_time": "2024-01-29T18:06:33.640764",
     "exception": false,
     "start_time": "2024-01-29T18:06:33.590481",
     "status": "completed"
    },
    "tags": []
   },
   "outputs": [
    {
     "data": {
      "text/html": [
       "<div>\n",
       "<style scoped>\n",
       "    .dataframe tbody tr th:only-of-type {\n",
       "        vertical-align: middle;\n",
       "    }\n",
       "\n",
       "    .dataframe tbody tr th {\n",
       "        vertical-align: top;\n",
       "    }\n",
       "\n",
       "    .dataframe thead th {\n",
       "        text-align: right;\n",
       "    }\n",
       "</style>\n",
       "<table border=\"1\" class=\"dataframe\">\n",
       "  <thead>\n",
       "    <tr style=\"text-align: right;\">\n",
       "      <th></th>\n",
       "      <th>rating</th>\n",
       "      <th>header</th>\n",
       "      <th>author</th>\n",
       "      <th>date</th>\n",
       "      <th>place</th>\n",
       "      <th>content</th>\n",
       "      <th>aircraft</th>\n",
       "      <th>traveller_type</th>\n",
       "      <th>seat_type</th>\n",
       "      <th>route</th>\n",
       "      <th>date_flown</th>\n",
       "      <th>seat_comfort</th>\n",
       "      <th>cabin_staff_service</th>\n",
       "      <th>food_beverages</th>\n",
       "      <th>ground_service</th>\n",
       "      <th>value_for_money</th>\n",
       "      <th>recommended</th>\n",
       "      <th>entertainment</th>\n",
       "      <th>trip_verified</th>\n",
       "    </tr>\n",
       "  </thead>\n",
       "  <tbody>\n",
       "    <tr>\n",
       "      <th>3336</th>\n",
       "      <td>9</td>\n",
       "      <td>British Airways customer review</td>\n",
       "      <td>A Ross</td>\n",
       "      <td>2014-09-28</td>\n",
       "      <td>United Kingdom</td>\n",
       "      <td>JFK to LHR - Despite the image the BA TV show ...</td>\n",
       "      <td>NaN</td>\n",
       "      <td>NaN</td>\n",
       "      <td>Economy Class</td>\n",
       "      <td>NaN</td>\n",
       "      <td>NaN</td>\n",
       "      <td>2</td>\n",
       "      <td>2</td>\n",
       "      <td>2</td>\n",
       "      <td>-1</td>\n",
       "      <td>2</td>\n",
       "      <td>no</td>\n",
       "      <td>1</td>\n",
       "      <td>NaN</td>\n",
       "    </tr>\n",
       "    <tr>\n",
       "      <th>366</th>\n",
       "      <td>9</td>\n",
       "      <td>lots of space and privacy, very good seat</td>\n",
       "      <td>Guy Senior</td>\n",
       "      <td>2022-04-20</td>\n",
       "      <td>United Kingdom</td>\n",
       "      <td>My first time in the new Club World suite. E...</td>\n",
       "      <td>Boeing 787</td>\n",
       "      <td>Solo Leisure</td>\n",
       "      <td>Business Class</td>\n",
       "      <td>Chicago to London</td>\n",
       "      <td>2022-03-01</td>\n",
       "      <td>5</td>\n",
       "      <td>5</td>\n",
       "      <td>5</td>\n",
       "      <td>3</td>\n",
       "      <td>4</td>\n",
       "      <td>yes</td>\n",
       "      <td>4</td>\n",
       "      <td>Not Verified</td>\n",
       "    </tr>\n",
       "    <tr>\n",
       "      <th>889</th>\n",
       "      <td>3</td>\n",
       "      <td>Seats very uncomfortable</td>\n",
       "      <td>75 reviews</td>\n",
       "      <td>2019-04-01</td>\n",
       "      <td>Germany</td>\n",
       "      <td>Hamburg to Abu Dhabi via Heathrow. The 1.5h ...</td>\n",
       "      <td>A320/B788</td>\n",
       "      <td>Solo Leisure</td>\n",
       "      <td>Economy Class</td>\n",
       "      <td>Hamburg to Abu Dhabi via Heathrow</td>\n",
       "      <td>2019-04-01</td>\n",
       "      <td>1</td>\n",
       "      <td>3</td>\n",
       "      <td>2</td>\n",
       "      <td>3</td>\n",
       "      <td>4</td>\n",
       "      <td>no</td>\n",
       "      <td>-1</td>\n",
       "      <td>Verified</td>\n",
       "    </tr>\n",
       "  </tbody>\n",
       "</table>\n",
       "</div>"
      ],
      "text/plain": [
       "      rating                                     header      author  \\\n",
       "3336       9            British Airways customer review      A Ross   \n",
       "366        9  lots of space and privacy, very good seat  Guy Senior   \n",
       "889        3                   Seats very uncomfortable  75 reviews   \n",
       "\n",
       "           date           place  \\\n",
       "3336 2014-09-28  United Kingdom   \n",
       "366  2022-04-20  United Kingdom   \n",
       "889  2019-04-01         Germany   \n",
       "\n",
       "                                                content    aircraft  \\\n",
       "3336  JFK to LHR - Despite the image the BA TV show ...         NaN   \n",
       "366     My first time in the new Club World suite. E...  Boeing 787   \n",
       "889     Hamburg to Abu Dhabi via Heathrow. The 1.5h ...   A320/B788   \n",
       "\n",
       "     traveller_type       seat_type                              route  \\\n",
       "3336            NaN   Economy Class                                NaN   \n",
       "366    Solo Leisure  Business Class                  Chicago to London   \n",
       "889    Solo Leisure   Economy Class  Hamburg to Abu Dhabi via Heathrow   \n",
       "\n",
       "      date_flown  seat_comfort  cabin_staff_service  food_beverages  \\\n",
       "3336         NaN             2                    2               2   \n",
       "366   2022-03-01             5                    5               5   \n",
       "889   2019-04-01             1                    3               2   \n",
       "\n",
       "      ground_service  value_for_money recommended  entertainment trip_verified  \n",
       "3336              -1                2          no              1           NaN  \n",
       "366                3                4         yes              4  Not Verified  \n",
       "889                3                4          no             -1      Verified  "
      ]
     },
     "execution_count": 7,
     "metadata": {},
     "output_type": "execute_result"
    }
   ],
   "source": [
    "df.sample(3)"
   ]
  },
  {
   "cell_type": "markdown",
   "id": "0e7e95bd",
   "metadata": {
    "papermill": {
     "duration": 0.016169,
     "end_time": "2024-01-29T18:06:33.672567",
     "exception": false,
     "start_time": "2024-01-29T18:06:33.656398",
     "status": "completed"
    },
    "tags": []
   },
   "source": [
    "# EDA"
   ]
  },
  {
   "cell_type": "code",
   "execution_count": 8,
   "id": "97b3d202",
   "metadata": {
    "execution": {
     "iopub.execute_input": "2024-01-29T18:06:33.705955Z",
     "iopub.status.busy": "2024-01-29T18:06:33.705545Z",
     "iopub.status.idle": "2024-01-29T18:06:33.727012Z",
     "shell.execute_reply": "2024-01-29T18:06:33.725817Z"
    },
    "papermill": {
     "duration": 0.041195,
     "end_time": "2024-01-29T18:06:33.729603",
     "exception": false,
     "start_time": "2024-01-29T18:06:33.688408",
     "status": "completed"
    },
    "tags": []
   },
   "outputs": [
    {
     "data": {
      "text/plain": [
       "aircraft          0.474004\n",
       "traveller_type    0.199392\n",
       "seat_type         0.000553\n",
       "route             0.200498\n",
       "date_flown        0.201327\n",
       "trip_verified     0.407633\n",
       "dtype: float64"
      ]
     },
     "execution_count": 8,
     "metadata": {},
     "output_type": "execute_result"
    }
   ],
   "source": [
    "df.isna().mean()[df.isna().mean()>0]"
   ]
  },
  {
   "cell_type": "code",
   "execution_count": 9,
   "id": "1e29a075",
   "metadata": {
    "execution": {
     "iopub.execute_input": "2024-01-29T18:06:33.762778Z",
     "iopub.status.busy": "2024-01-29T18:06:33.762365Z",
     "iopub.status.idle": "2024-01-29T18:06:33.801126Z",
     "shell.execute_reply": "2024-01-29T18:06:33.800042Z"
    },
    "papermill": {
     "duration": 0.057883,
     "end_time": "2024-01-29T18:06:33.803359",
     "exception": false,
     "start_time": "2024-01-29T18:06:33.745476",
     "status": "completed"
    },
    "tags": []
   },
   "outputs": [
    {
     "name": "stderr",
     "output_type": "stream",
     "text": [
      "/opt/conda/lib/python3.10/site-packages/nltk/twitter/__init__.py:20: UserWarning: The twython library has not been installed. Some functionality from the twitter package will not be available.\n",
      "  warnings.warn(\"The twython library has not been installed. \"\n"
     ]
    }
   ],
   "source": [
    "import nltk\n",
    "\n",
    "tokenizer=nltk.RegexpTokenizer(r'\\w+')\n",
    "lemmatizer=nltk.stem.WordNetLemmatizer()\n",
    "stopwords=nltk.corpus.stopwords.words('english')\n",
    "from nltk.sentiment import SentimentIntensityAnalyzer\n",
    "sia=SentimentIntensityAnalyzer()"
   ]
  },
  {
   "cell_type": "code",
   "execution_count": 10,
   "id": "0342dfd7",
   "metadata": {
    "execution": {
     "iopub.execute_input": "2024-01-29T18:06:33.836558Z",
     "iopub.status.busy": "2024-01-29T18:06:33.836131Z",
     "iopub.status.idle": "2024-01-29T18:06:33.843522Z",
     "shell.execute_reply": "2024-01-29T18:06:33.842135Z"
    },
    "papermill": {
     "duration": 0.027181,
     "end_time": "2024-01-29T18:06:33.846055",
     "exception": false,
     "start_time": "2024-01-29T18:06:33.818874",
     "status": "completed"
    },
    "tags": []
   },
   "outputs": [],
   "source": [
    "def comment_sentiment_scores(comment):\n",
    "    comment_tokenized=tokenizer.tokenize(comment)\n",
    "    comment_lower=[w.lower() for w in comment_tokenized]\n",
    "    comment_lemmatized=[lemmatizer.lemmatize(w) for w in comment_lower]\n",
    "    comment_filtered=[w for w in comment_lemmatized if w not in stopwords]\n",
    "    final_comment=' '.join(comment_filtered)\n",
    "    \n",
    "    score=sia.polarity_scores(final_comment)\n",
    "    return score"
   ]
  },
  {
   "cell_type": "code",
   "execution_count": 11,
   "id": "a2edfd83",
   "metadata": {
    "execution": {
     "iopub.execute_input": "2024-01-29T18:06:33.941939Z",
     "iopub.status.busy": "2024-01-29T18:06:33.940924Z",
     "iopub.status.idle": "2024-01-29T18:06:47.949996Z",
     "shell.execute_reply": "2024-01-29T18:06:47.948974Z"
    },
    "papermill": {
     "duration": 14.028834,
     "end_time": "2024-01-29T18:06:47.952746",
     "exception": false,
     "start_time": "2024-01-29T18:06:33.923912",
     "status": "completed"
    },
    "tags": []
   },
   "outputs": [],
   "source": [
    "scores=[]\n",
    "\n",
    "for comment in df['content']:\n",
    "    try:\n",
    "        score=comment_sentiment_scores(comment)\n",
    "    except:\n",
    "        score=None\n",
    "    scores.append(score)"
   ]
  },
  {
   "cell_type": "code",
   "execution_count": 12,
   "id": "46b5a559",
   "metadata": {
    "execution": {
     "iopub.execute_input": "2024-01-29T18:06:47.987001Z",
     "iopub.status.busy": "2024-01-29T18:06:47.986287Z",
     "iopub.status.idle": "2024-01-29T18:06:47.993958Z",
     "shell.execute_reply": "2024-01-29T18:06:47.992656Z"
    },
    "papermill": {
     "duration": 0.027453,
     "end_time": "2024-01-29T18:06:47.996276",
     "exception": false,
     "start_time": "2024-01-29T18:06:47.968823",
     "status": "completed"
    },
    "tags": []
   },
   "outputs": [],
   "source": [
    "df['Sentiment Score']=[i['compound'] if i else None for i in scores]"
   ]
  },
  {
   "cell_type": "code",
   "execution_count": 13,
   "id": "3eea40bc",
   "metadata": {
    "execution": {
     "iopub.execute_input": "2024-01-29T18:06:48.030267Z",
     "iopub.status.busy": "2024-01-29T18:06:48.029840Z",
     "iopub.status.idle": "2024-01-29T18:06:48.719677Z",
     "shell.execute_reply": "2024-01-29T18:06:48.718377Z"
    },
    "papermill": {
     "duration": 0.709885,
     "end_time": "2024-01-29T18:06:48.722348",
     "exception": false,
     "start_time": "2024-01-29T18:06:48.012463",
     "status": "completed"
    },
    "tags": []
   },
   "outputs": [
    {
     "data": {
      "image/png": "[encoded data removed]",
      "text/plain": [
       "<Figure size 2000x500 with 2 Axes>"
      ]
     },
     "metadata": {},
     "output_type": "display_data"
    },
    {
     "name": "stdout",
     "output_type": "stream",
     "text": [
      "Correlation Between Rating And Sentiment Score: 0.86\n"
     ]
    }
   ],
   "source": [
    "g=df.groupby(df['date'].dt.to_period('M'))[['rating','Sentiment Score']].mean()\n",
    "\n",
    "\n",
    "fig,ax=plt.subplots(figsize=(20,5))\n",
    "ax2=ax.twinx()\n",
    "\n",
    "g.plot(ax=ax, y='rating',marker='.')\n",
    "g.plot(ax=ax2,y='Sentiment Score',color='blue',marker='.')\n",
    "plt.title('Average Sentiment Score And Rating By Month',fontweight='bold')\n",
    "plt.show()\n",
    "\n",
    "print('Correlation Between Rating And Sentiment Score:',g['rating'].corr(g['Sentiment Score']).round(2))"
   ]
  },
  {
   "cell_type": "markdown",
   "id": "8fbc875d",
   "metadata": {
    "papermill": {
     "duration": 0.018869,
     "end_time": "2024-01-29T18:06:48.760274",
     "exception": false,
     "start_time": "2024-01-29T18:06:48.741405",
     "status": "completed"
    },
    "tags": []
   },
   "source": [
    "# Predict whether a custumer will recommend the airline company to others or not"
   ]
  },
  {
   "cell_type": "code",
   "execution_count": 14,
   "id": "17d33dff",
   "metadata": {
    "execution": {
     "iopub.execute_input": "2024-01-29T18:06:48.798656Z",
     "iopub.status.busy": "2024-01-29T18:06:48.798254Z",
     "iopub.status.idle": "2024-01-29T18:06:48.808740Z",
     "shell.execute_reply": "2024-01-29T18:06:48.807693Z"
    },
    "papermill": {
     "duration": 0.032381,
     "end_time": "2024-01-29T18:06:48.811248",
     "exception": false,
     "start_time": "2024-01-29T18:06:48.778867",
     "status": "completed"
    },
    "tags": []
   },
   "outputs": [
    {
     "data": {
      "text/plain": [
       "recommended\n",
       "no     0.060536\n",
       "yes    0.753232\n",
       "Name: Sentiment Score, dtype: float64"
      ]
     },
     "execution_count": 14,
     "metadata": {},
     "output_type": "execute_result"
    }
   ],
   "source": [
    "df.groupby('recommended')['Sentiment Score'].mean()"
   ]
  },
  {
   "cell_type": "code",
   "execution_count": 15,
   "id": "eeb79884",
   "metadata": {
    "execution": {
     "iopub.execute_input": "2024-01-29T18:06:48.850286Z",
     "iopub.status.busy": "2024-01-29T18:06:48.849789Z",
     "iopub.status.idle": "2024-01-29T18:06:49.025140Z",
     "shell.execute_reply": "2024-01-29T18:06:49.023190Z"
    },
    "papermill": {
     "duration": 0.200938,
     "end_time": "2024-01-29T18:06:49.030722",
     "exception": false,
     "start_time": "2024-01-29T18:06:48.829784",
     "status": "completed"
    },
    "tags": []
   },
   "outputs": [
    {
     "data": {
      "text/plain": [
       "<Axes: title={'center': 'Recommended'}, ylabel='count'>"
      ]
     },
     "execution_count": 15,
     "metadata": {},
     "output_type": "execute_result"
    },
    {
     "data": {
      "image/png": "[encoded data removed]",
      "text/plain": [
       "<Figure size 640x480 with 1 Axes>"
      ]
     },
     "metadata": {},
     "output_type": "display_data"
    }
   ],
   "source": [
    "df['recommended'].value_counts().plot.pie(title='Recommended',autopct='%.2f%%')"
   ]
  },
  {
   "cell_type": "code",
   "execution_count": 16,
   "id": "aedcc768",
   "metadata": {
    "execution": {
     "iopub.execute_input": "2024-01-29T18:06:49.098181Z",
     "iopub.status.busy": "2024-01-29T18:06:49.097703Z",
     "iopub.status.idle": "2024-01-29T18:06:49.104897Z",
     "shell.execute_reply": "2024-01-29T18:06:49.104022Z"
    },
    "papermill": {
     "duration": 0.035203,
     "end_time": "2024-01-29T18:06:49.107049",
     "exception": false,
     "start_time": "2024-01-29T18:06:49.071846",
     "status": "completed"
    },
    "tags": []
   },
   "outputs": [],
   "source": [
    "df['recommended']=df['recommended'].map({'yes':1,'no':0})"
   ]
  },
  {
   "cell_type": "markdown",
   "id": "da9f9f68",
   "metadata": {
    "papermill": {
     "duration": 0.018716,
     "end_time": "2024-01-29T18:06:49.144884",
     "exception": false,
     "start_time": "2024-01-29T18:06:49.126168",
     "status": "completed"
    },
    "tags": []
   },
   "source": [
    "Define vectors dictionary\n"
   ]
  },
  {
   "cell_type": "code",
   "execution_count": 17,
   "id": "330b959f",
   "metadata": {
    "execution": {
     "iopub.execute_input": "2024-01-29T18:06:49.185476Z",
     "iopub.status.busy": "2024-01-29T18:06:49.184754Z",
     "iopub.status.idle": "2024-01-29T18:06:58.406476Z",
     "shell.execute_reply": "2024-01-29T18:06:58.405218Z"
    },
    "papermill": {
     "duration": 9.245283,
     "end_time": "2024-01-29T18:06:58.409428",
     "exception": false,
     "start_time": "2024-01-29T18:06:49.164145",
     "status": "completed"
    },
    "tags": []
   },
   "outputs": [],
   "source": [
    "vector_dict={}\n",
    "\n",
    "with open('/kaggle/input/word-vectors-50d/glove.6B.50d.txt','r',encoding='utf-8') as f:\n",
    "    for line in f.readlines():\n",
    "        try:\n",
    "            line=line.split(' ')\n",
    "            vector_dict[line[0]]=np.array(line[1:],dtype=float)\n",
    "        except:\n",
    "            continue"
   ]
  },
  {
   "cell_type": "code",
   "execution_count": 18,
   "id": "a80bc12e",
   "metadata": {
    "execution": {
     "iopub.execute_input": "2024-01-29T18:06:58.451441Z",
     "iopub.status.busy": "2024-01-29T18:06:58.450904Z",
     "iopub.status.idle": "2024-01-29T18:06:58.458460Z",
     "shell.execute_reply": "2024-01-29T18:06:58.457350Z"
    },
    "papermill": {
     "duration": 0.030407,
     "end_time": "2024-01-29T18:06:58.460641",
     "exception": false,
     "start_time": "2024-01-29T18:06:58.430234",
     "status": "completed"
    },
    "tags": []
   },
   "outputs": [
    {
     "data": {
      "text/plain": [
       "400000"
      ]
     },
     "execution_count": 18,
     "metadata": {},
     "output_type": "execute_result"
    }
   ],
   "source": [
    "len(vector_dict)"
   ]
  },
  {
   "cell_type": "markdown",
   "id": "2e7eb5d5",
   "metadata": {
    "papermill": {
     "duration": 0.019347,
     "end_time": "2024-01-29T18:06:58.499221",
     "exception": false,
     "start_time": "2024-01-29T18:06:58.479874",
     "status": "completed"
    },
    "tags": []
   },
   "source": [
    "Convert text to tokens"
   ]
  },
  {
   "cell_type": "code",
   "execution_count": 19,
   "id": "7c8fec9a",
   "metadata": {
    "execution": {
     "iopub.execute_input": "2024-01-29T18:06:58.539763Z",
     "iopub.status.busy": "2024-01-29T18:06:58.539061Z",
     "iopub.status.idle": "2024-01-29T18:06:58.545602Z",
     "shell.execute_reply": "2024-01-29T18:06:58.544407Z"
    },
    "papermill": {
     "duration": 0.029764,
     "end_time": "2024-01-29T18:06:58.548250",
     "exception": false,
     "start_time": "2024-01-29T18:06:58.518486",
     "status": "completed"
    },
    "tags": []
   },
   "outputs": [],
   "source": [
    "def text_to_tokens(text):\n",
    "    tokenized=tokenizer.tokenize(text)\n",
    "    lower=[t.lower() for t in tokenized]\n",
    "    lemmatized=[lemmatizer.lemmatize(t) for t in lower]\n",
    "    tokens=[t for t in lemmatized if t in vector_dict]\n",
    "    \n",
    "    return tokens"
   ]
  },
  {
   "cell_type": "markdown",
   "id": "86defb26",
   "metadata": {
    "papermill": {
     "duration": 0.018823,
     "end_time": "2024-01-29T18:06:58.586388",
     "exception": false,
     "start_time": "2024-01-29T18:06:58.567565",
     "status": "completed"
    },
    "tags": []
   },
   "source": [
    "Create list of vectors for each text"
   ]
  },
  {
   "cell_type": "code",
   "execution_count": 20,
   "id": "1d4e6954",
   "metadata": {
    "execution": {
     "iopub.execute_input": "2024-01-29T18:06:58.626548Z",
     "iopub.status.busy": "2024-01-29T18:06:58.626107Z",
     "iopub.status.idle": "2024-01-29T18:06:58.632835Z",
     "shell.execute_reply": "2024-01-29T18:06:58.631573Z"
    },
    "papermill": {
     "duration": 0.02972,
     "end_time": "2024-01-29T18:06:58.635262",
     "exception": false,
     "start_time": "2024-01-29T18:06:58.605542",
     "status": "completed"
    },
    "tags": []
   },
   "outputs": [],
   "source": [
    "def text_to_vector_list(text):\n",
    "    text_as_tokens=text_to_tokens(text)\n",
    "\n",
    "    vectors_list=[]\n",
    "    for token in text_as_tokens:\n",
    "        if token not in vector_dict:\n",
    "            continue\n",
    "        vector=vector_dict[token]\n",
    "        vectors_list.append(vector)\n",
    "    return np.array(vectors_list,dtype=float)"
   ]
  },
  {
   "cell_type": "markdown",
   "id": "d7a6d7be",
   "metadata": {
    "papermill": {
     "duration": 0.018927,
     "end_time": "2024-01-29T18:06:58.673494",
     "exception": false,
     "start_time": "2024-01-29T18:06:58.654567",
     "status": "completed"
    },
    "tags": []
   },
   "source": [
    "Split data into train, validation and test sets"
   ]
  },
  {
   "cell_type": "code",
   "execution_count": 21,
   "id": "2122b895",
   "metadata": {
    "execution": {
     "iopub.execute_input": "2024-01-29T18:06:58.715677Z",
     "iopub.status.busy": "2024-01-29T18:06:58.714740Z",
     "iopub.status.idle": "2024-01-29T18:06:58.725837Z",
     "shell.execute_reply": "2024-01-29T18:06:58.725019Z"
    },
    "papermill": {
     "duration": 0.034787,
     "end_time": "2024-01-29T18:06:58.728473",
     "exception": false,
     "start_time": "2024-01-29T18:06:58.693686",
     "status": "completed"
    },
    "tags": []
   },
   "outputs": [],
   "source": [
    "df=df.sample(frac=1).reset_index(drop=True)"
   ]
  },
  {
   "cell_type": "code",
   "execution_count": 22,
   "id": "3baf9af9",
   "metadata": {
    "execution": {
     "iopub.execute_input": "2024-01-29T18:06:58.769684Z",
     "iopub.status.busy": "2024-01-29T18:06:58.769292Z",
     "iopub.status.idle": "2024-01-29T18:06:58.777794Z",
     "shell.execute_reply": "2024-01-29T18:06:58.777003Z"
    },
    "papermill": {
     "duration": 0.031467,
     "end_time": "2024-01-29T18:06:58.779961",
     "exception": false,
     "start_time": "2024-01-29T18:06:58.748494",
     "status": "completed"
    },
    "tags": []
   },
   "outputs": [
    {
     "data": {
      "text/plain": [
       "(2531, 542, 543)"
      ]
     },
     "execution_count": 22,
     "metadata": {},
     "output_type": "execute_result"
    }
   ],
   "source": [
    "split_index_1=int(len(df)*0.7)\n",
    "split_index_2=int(len(df)*0.85)\n",
    "\n",
    "train, val, test=df.iloc[:split_index_1],df.iloc[split_index_1:split_index_2],df.iloc[split_index_2:]\n",
    "\n",
    "len(train), len(val), len(test)"
   ]
  },
  {
   "cell_type": "markdown",
   "id": "4a13f225",
   "metadata": {
    "papermill": {
     "duration": 0.019137,
     "end_time": "2024-01-29T18:06:58.818467",
     "exception": false,
     "start_time": "2024-01-29T18:06:58.799330",
     "status": "completed"
    },
    "tags": []
   },
   "source": [
    "Create vector sequences (X)\n"
   ]
  },
  {
   "cell_type": "code",
   "execution_count": 23,
   "id": "a2644134",
   "metadata": {
    "execution": {
     "iopub.execute_input": "2024-01-29T18:06:58.860021Z",
     "iopub.status.busy": "2024-01-29T18:06:58.859107Z",
     "iopub.status.idle": "2024-01-29T18:06:58.866440Z",
     "shell.execute_reply": "2024-01-29T18:06:58.865296Z"
    },
    "papermill": {
     "duration": 0.031104,
     "end_time": "2024-01-29T18:06:58.869134",
     "exception": false,
     "start_time": "2024-01-29T18:06:58.838030",
     "status": "completed"
    },
    "tags": []
   },
   "outputs": [],
   "source": [
    "def df_to_Xy(df):\n",
    "    y=df['recommended'].to_numpy().astype(int)\n",
    "\n",
    "    vector_sequence=[]\n",
    "    for text in df['content']:\n",
    "        vectors_list=text_to_vector_list(text)\n",
    "        if vectors_list.shape[0]==0:\n",
    "            vectors_list=np.zeros(shape=(1,50))\n",
    "        vector_sequence.append(vectors_list)\n",
    "    \n",
    "    return vector_sequence,y"
   ]
  },
  {
   "cell_type": "code",
   "execution_count": 24,
   "id": "06fcca2b",
   "metadata": {
    "execution": {
     "iopub.execute_input": "2024-01-29T18:06:58.910661Z",
     "iopub.status.busy": "2024-01-29T18:06:58.910063Z",
     "iopub.status.idle": "2024-01-29T18:07:04.016715Z",
     "shell.execute_reply": "2024-01-29T18:07:04.015534Z"
    },
    "papermill": {
     "duration": 5.130481,
     "end_time": "2024-01-29T18:07:04.019582",
     "exception": false,
     "start_time": "2024-01-29T18:06:58.889101",
     "status": "completed"
    },
    "tags": []
   },
   "outputs": [],
   "source": [
    "X_train,y_train=df_to_Xy(train)\n",
    "X_val,y_val=df_to_Xy(val)\n",
    "X_test,y_test=df_to_Xy(test)"
   ]
  },
  {
   "cell_type": "code",
   "execution_count": 25,
   "id": "8cce8a95",
   "metadata": {
    "execution": {
     "iopub.execute_input": "2024-01-29T18:07:04.061938Z",
     "iopub.status.busy": "2024-01-29T18:07:04.061518Z",
     "iopub.status.idle": "2024-01-29T18:07:09.366349Z",
     "shell.execute_reply": "2024-01-29T18:07:09.364772Z"
    },
    "papermill": {
     "duration": 5.329522,
     "end_time": "2024-01-29T18:07:09.369279",
     "exception": false,
     "start_time": "2024-01-29T18:07:04.039757",
     "status": "completed"
    },
    "tags": []
   },
   "outputs": [],
   "source": [
    "length_list=[]\n",
    "for i in df_to_Xy(df)[0]:\n",
    "    length_list.append(i.shape[0])"
   ]
  },
  {
   "cell_type": "code",
   "execution_count": 26,
   "id": "03a39a77",
   "metadata": {
    "execution": {
     "iopub.execute_input": "2024-01-29T18:07:09.410147Z",
     "iopub.status.busy": "2024-01-29T18:07:09.409708Z",
     "iopub.status.idle": "2024-01-29T18:07:09.415014Z",
     "shell.execute_reply": "2024-01-29T18:07:09.414232Z"
    },
    "papermill": {
     "duration": 0.027947,
     "end_time": "2024-01-29T18:07:09.417082",
     "exception": false,
     "start_time": "2024-01-29T18:07:09.389135",
     "status": "completed"
    },
    "tags": []
   },
   "outputs": [],
   "source": [
    "max=0\n",
    "for i in length_list:\n",
    "    if i>max:\n",
    "        max=i"
   ]
  },
  {
   "cell_type": "code",
   "execution_count": 27,
   "id": "1071d4c1",
   "metadata": {
    "execution": {
     "iopub.execute_input": "2024-01-29T18:07:09.457668Z",
     "iopub.status.busy": "2024-01-29T18:07:09.456839Z",
     "iopub.status.idle": "2024-01-29T18:07:09.464362Z",
     "shell.execute_reply": "2024-01-29T18:07:09.463302Z"
    },
    "papermill": {
     "duration": 0.030387,
     "end_time": "2024-01-29T18:07:09.466546",
     "exception": false,
     "start_time": "2024-01-29T18:07:09.436159",
     "status": "completed"
    },
    "tags": []
   },
   "outputs": [
    {
     "data": {
      "text/plain": [
       "662"
      ]
     },
     "execution_count": 27,
     "metadata": {},
     "output_type": "execute_result"
    }
   ],
   "source": [
    "max"
   ]
  },
  {
   "cell_type": "markdown",
   "id": "982b0261",
   "metadata": {
    "papermill": {
     "duration": 0.019206,
     "end_time": "2024-01-29T18:07:09.504947",
     "exception": false,
     "start_time": "2024-01-29T18:07:09.485741",
     "status": "completed"
    },
    "tags": []
   },
   "source": [
    "Padding to have uniform input data\n"
   ]
  },
  {
   "cell_type": "code",
   "execution_count": 28,
   "id": "a63d0a1c",
   "metadata": {
    "execution": {
     "iopub.execute_input": "2024-01-29T18:07:09.546006Z",
     "iopub.status.busy": "2024-01-29T18:07:09.545291Z",
     "iopub.status.idle": "2024-01-29T18:07:09.552371Z",
     "shell.execute_reply": "2024-01-29T18:07:09.551359Z"
    },
    "papermill": {
     "duration": 0.030305,
     "end_time": "2024-01-29T18:07:09.554747",
     "exception": false,
     "start_time": "2024-01-29T18:07:09.524442",
     "status": "completed"
    },
    "tags": []
   },
   "outputs": [],
   "source": [
    "from copy import deepcopy\n",
    "\n",
    "def pad_X(X,desired_lngth=max):\n",
    "    X_copy=deepcopy(X)\n",
    "\n",
    "    for i, vectors_list in enumerate(X_copy):\n",
    "        vector_length=vectors_list.shape[0]\n",
    "        diff=desired_lngth-vector_length\n",
    "        pad=np.zeros(shape=(diff,50))\n",
    "        \n",
    "        X_copy[i]=np.concatenate([vectors_list,pad])\n",
    "    \n",
    "    return np.array(X_copy).astype(float)"
   ]
  },
  {
   "cell_type": "code",
   "execution_count": 29,
   "id": "cf7a1bb2",
   "metadata": {
    "execution": {
     "iopub.execute_input": "2024-01-29T18:07:09.596199Z",
     "iopub.status.busy": "2024-01-29T18:07:09.595457Z",
     "iopub.status.idle": "2024-01-29T18:07:10.859167Z",
     "shell.execute_reply": "2024-01-29T18:07:10.857838Z"
    },
    "papermill": {
     "duration": 1.287227,
     "end_time": "2024-01-29T18:07:10.861838",
     "exception": false,
     "start_time": "2024-01-29T18:07:09.574611",
     "status": "completed"
    },
    "tags": []
   },
   "outputs": [
    {
     "data": {
      "text/plain": [
       "((2531, 662, 50), (2531,))"
      ]
     },
     "execution_count": 29,
     "metadata": {},
     "output_type": "execute_result"
    }
   ],
   "source": [
    "X_train=pad_X(X_train)\n",
    "\n",
    "X_train.shape, y_train.shape"
   ]
  },
  {
   "cell_type": "code",
   "execution_count": 30,
   "id": "60b220d4",
   "metadata": {
    "execution": {
     "iopub.execute_input": "2024-01-29T18:07:10.903908Z",
     "iopub.status.busy": "2024-01-29T18:07:10.902761Z",
     "iopub.status.idle": "2024-01-29T18:07:11.052300Z",
     "shell.execute_reply": "2024-01-29T18:07:11.051170Z"
    },
    "papermill": {
     "duration": 0.173043,
     "end_time": "2024-01-29T18:07:11.054719",
     "exception": false,
     "start_time": "2024-01-29T18:07:10.881676",
     "status": "completed"
    },
    "tags": []
   },
   "outputs": [
    {
     "data": {
      "text/plain": [
       "((542, 662, 50), (542,))"
      ]
     },
     "execution_count": 30,
     "metadata": {},
     "output_type": "execute_result"
    }
   ],
   "source": [
    "X_val = pad_X(X_val)\n",
    "\n",
    "X_val.shape, y_val.shape"
   ]
  },
  {
   "cell_type": "code",
   "execution_count": 31,
   "id": "bb132953",
   "metadata": {
    "execution": {
     "iopub.execute_input": "2024-01-29T18:07:11.096379Z",
     "iopub.status.busy": "2024-01-29T18:07:11.095987Z",
     "iopub.status.idle": "2024-01-29T18:07:11.240337Z",
     "shell.execute_reply": "2024-01-29T18:07:11.239106Z"
    },
    "papermill": {
     "duration": 0.168466,
     "end_time": "2024-01-29T18:07:11.243152",
     "exception": false,
     "start_time": "2024-01-29T18:07:11.074686",
     "status": "completed"
    },
    "tags": []
   },
   "outputs": [
    {
     "data": {
      "text/plain": [
       "((543, 662, 50), (543,))"
      ]
     },
     "execution_count": 31,
     "metadata": {},
     "output_type": "execute_result"
    }
   ],
   "source": [
    "X_test = pad_X(X_test)\n",
    "\n",
    "X_test.shape, y_test.shape"
   ]
  },
  {
   "cell_type": "markdown",
   "id": "7d20e699",
   "metadata": {
    "papermill": {
     "duration": 0.020113,
     "end_time": "2024-01-29T18:07:11.283472",
     "exception": false,
     "start_time": "2024-01-29T18:07:11.263359",
     "status": "completed"
    },
    "tags": []
   },
   "source": [
    "### Building LSTM Model\n"
   ]
  },
  {
   "cell_type": "code",
   "execution_count": 32,
   "id": "5c1ddd83",
   "metadata": {
    "execution": {
     "iopub.execute_input": "2024-01-29T18:07:11.325689Z",
     "iopub.status.busy": "2024-01-29T18:07:11.324928Z",
     "iopub.status.idle": "2024-01-29T18:07:24.196500Z",
     "shell.execute_reply": "2024-01-29T18:07:24.195458Z"
    },
    "papermill": {
     "duration": 12.895923,
     "end_time": "2024-01-29T18:07:24.199418",
     "exception": false,
     "start_time": "2024-01-29T18:07:11.303495",
     "status": "completed"
    },
    "tags": []
   },
   "outputs": [],
   "source": [
    "from keras.layers import Dense, LSTM, Input,Dropout\n",
    "from keras import layers\n",
    "from keras.models import Sequential"
   ]
  },
  {
   "cell_type": "code",
   "execution_count": 33,
   "id": "5ac7b8ee",
   "metadata": {
    "execution": {
     "iopub.execute_input": "2024-01-29T18:07:24.242312Z",
     "iopub.status.busy": "2024-01-29T18:07:24.241511Z",
     "iopub.status.idle": "2024-01-29T18:07:24.757580Z",
     "shell.execute_reply": "2024-01-29T18:07:24.755682Z"
    },
    "papermill": {
     "duration": 0.540934,
     "end_time": "2024-01-29T18:07:24.760671",
     "exception": false,
     "start_time": "2024-01-29T18:07:24.219737",
     "status": "completed"
    },
    "tags": []
   },
   "outputs": [
    {
     "name": "stdout",
     "output_type": "stream",
     "text": [
      "Model: \"sequential\"\n",
      "_________________________________________________________________\n",
      " Layer (type)                Output Shape              Param #   \n",
      "=================================================================\n",
      " lstm (LSTM)                 (None, 662, 64)           29440     \n",
      "                                                                 \n",
      " dropout (Dropout)           (None, 662, 64)           0         \n",
      "                                                                 \n",
      " flatten (Flatten)           (None, 42368)             0         \n",
      "                                                                 \n",
      " dense (Dense)               (None, 1)                 42369     \n",
      "                                                                 \n",
      "=================================================================\n",
      "Total params: 71809 (280.50 KB)\n",
      "Trainable params: 71809 (280.50 KB)\n",
      "Non-trainable params: 0 (0.00 Byte)\n",
      "_________________________________________________________________\n"
     ]
    }
   ],
   "source": [
    "model=Sequential()\n",
    "model.add(Input(shape=(max,50)))\n",
    "model.add(LSTM(64,return_sequences=True))\n",
    "model.add(Dropout(0.2))\n",
    "model.add(layers.Flatten())\n",
    "model.add(Dense(1,activation='sigmoid'))\n",
    "\n",
    "model.summary()"
   ]
  },
  {
   "cell_type": "code",
   "execution_count": 34,
   "id": "75bf773d",
   "metadata": {
    "execution": {
     "iopub.execute_input": "2024-01-29T18:07:24.806652Z",
     "iopub.status.busy": "2024-01-29T18:07:24.806263Z",
     "iopub.status.idle": "2024-01-29T18:07:24.812165Z",
     "shell.execute_reply": "2024-01-29T18:07:24.810885Z"
    },
    "papermill": {
     "duration": 0.032768,
     "end_time": "2024-01-29T18:07:24.814687",
     "exception": false,
     "start_time": "2024-01-29T18:07:24.781919",
     "status": "completed"
    },
    "tags": []
   },
   "outputs": [],
   "source": [
    "from keras.losses import BinaryCrossentropy\n",
    "from keras.optimizers import Adam\n",
    "from keras.metrics import AUC\n",
    "from keras.callbacks import ModelCheckpoint"
   ]
  },
  {
   "cell_type": "code",
   "execution_count": 35,
   "id": "4400391c",
   "metadata": {
    "execution": {
     "iopub.execute_input": "2024-01-29T18:07:24.859775Z",
     "iopub.status.busy": "2024-01-29T18:07:24.859377Z",
     "iopub.status.idle": "2024-01-29T18:07:24.864799Z",
     "shell.execute_reply": "2024-01-29T18:07:24.863671Z"
    },
    "papermill": {
     "duration": 0.030749,
     "end_time": "2024-01-29T18:07:24.867226",
     "exception": false,
     "start_time": "2024-01-29T18:07:24.836477",
     "status": "completed"
    },
    "tags": []
   },
   "outputs": [],
   "source": [
    "cp=ModelCheckpoint('model/',save_best_only=True)"
   ]
  },
  {
   "cell_type": "code",
   "execution_count": 36,
   "id": "d9b22258",
   "metadata": {
    "execution": {
     "iopub.execute_input": "2024-01-29T18:07:24.912390Z",
     "iopub.status.busy": "2024-01-29T18:07:24.911955Z",
     "iopub.status.idle": "2024-01-29T18:07:24.946094Z",
     "shell.execute_reply": "2024-01-29T18:07:24.944848Z"
    },
    "papermill": {
     "duration": 0.059983,
     "end_time": "2024-01-29T18:07:24.948830",
     "exception": false,
     "start_time": "2024-01-29T18:07:24.888847",
     "status": "completed"
    },
    "tags": []
   },
   "outputs": [],
   "source": [
    "model.compile(\n",
    "    optimizer=Adam(learning_rate=0.0001),\n",
    "    loss=BinaryCrossentropy(),\n",
    "    metrics=['accuracy',AUC(name='auc')]\n",
    "    )"
   ]
  },
  {
   "cell_type": "code",
   "execution_count": 37,
   "id": "23ace6eb",
   "metadata": {
    "execution": {
     "iopub.execute_input": "2024-01-29T18:07:24.994616Z",
     "iopub.status.busy": "2024-01-29T18:07:24.994226Z",
     "iopub.status.idle": "2024-01-29T18:07:25.003042Z",
     "shell.execute_reply": "2024-01-29T18:07:25.001862Z"
    },
    "papermill": {
     "duration": 0.034463,
     "end_time": "2024-01-29T18:07:25.005467",
     "exception": false,
     "start_time": "2024-01-29T18:07:24.971004",
     "status": "completed"
    },
    "tags": []
   },
   "outputs": [
    {
     "data": {
      "text/plain": [
       "recommended\n",
       "0    2162\n",
       "1    1454\n",
       "Name: count, dtype: int64"
      ]
     },
     "execution_count": 37,
     "metadata": {},
     "output_type": "execute_result"
    }
   ],
   "source": [
    "frequencies=df['recommended'].value_counts()\n",
    "frequencies"
   ]
  },
  {
   "cell_type": "code",
   "execution_count": 38,
   "id": "f0306750",
   "metadata": {
    "execution": {
     "iopub.execute_input": "2024-01-29T18:07:25.050680Z",
     "iopub.status.busy": "2024-01-29T18:07:25.050299Z",
     "iopub.status.idle": "2024-01-29T18:07:25.058473Z",
     "shell.execute_reply": "2024-01-29T18:07:25.057406Z"
    },
    "papermill": {
     "duration": 0.033663,
     "end_time": "2024-01-29T18:07:25.060830",
     "exception": false,
     "start_time": "2024-01-29T18:07:25.027167",
     "status": "completed"
    },
    "tags": []
   },
   "outputs": [
    {
     "data": {
      "text/plain": [
       "{0: 1.6725254394079556, 1: 2.4869325997248968}"
      ]
     },
     "execution_count": 38,
     "metadata": {},
     "output_type": "execute_result"
    }
   ],
   "source": [
    "weights={0:frequencies.sum()/frequencies[0],1:frequencies.sum()/frequencies[1]}\n",
    "weights"
   ]
  },
  {
   "cell_type": "code",
   "execution_count": 39,
   "id": "2df7f6ea",
   "metadata": {
    "execution": {
     "iopub.execute_input": "2024-01-29T18:07:25.106360Z",
     "iopub.status.busy": "2024-01-29T18:07:25.105916Z",
     "iopub.status.idle": "2024-01-29T18:16:08.134935Z",
     "shell.execute_reply": "2024-01-29T18:16:08.133612Z"
    },
    "papermill": {
     "duration": 523.054946,
     "end_time": "2024-01-29T18:16:08.137611",
     "exception": false,
     "start_time": "2024-01-29T18:07:25.082665",
     "status": "completed"
    },
    "tags": []
   },
   "outputs": [
    {
     "name": "stdout",
     "output_type": "stream",
     "text": [
      "Epoch 1/20\n",
      "80/80 [==============================] - 32s 362ms/step - loss: 1.3454 - accuracy: 0.5737 - auc: 0.6338 - val_loss: 0.6533 - val_accuracy: 0.5738 - val_auc: 0.6659\n",
      "Epoch 2/20\n",
      "80/80 [==============================] - 24s 297ms/step - loss: 1.2614 - accuracy: 0.6243 - auc: 0.7115 - val_loss: 0.6560 - val_accuracy: 0.5849 - val_auc: 0.7596\n",
      "Epoch 3/20\n",
      "80/80 [==============================] - 29s 358ms/step - loss: 1.1641 - accuracy: 0.6981 - auc: 0.7707 - val_loss: 0.6179 - val_accuracy: 0.6494 - val_auc: 0.7745\n",
      "Epoch 4/20\n",
      "80/80 [==============================] - 28s 357ms/step - loss: 1.1059 - accuracy: 0.7183 - auc: 0.7941 - val_loss: 0.5506 - val_accuracy: 0.7085 - val_auc: 0.7894\n",
      "Epoch 5/20\n",
      "80/80 [==============================] - 29s 360ms/step - loss: 1.0629 - accuracy: 0.7305 - auc: 0.8128 - val_loss: 0.5267 - val_accuracy: 0.7288 - val_auc: 0.7952\n",
      "Epoch 6/20\n",
      "80/80 [==============================] - 25s 309ms/step - loss: 1.0353 - accuracy: 0.7483 - auc: 0.8254 - val_loss: 0.5680 - val_accuracy: 0.7011 - val_auc: 0.8085\n",
      "Epoch 7/20\n",
      "80/80 [==============================] - 23s 292ms/step - loss: 1.0160 - accuracy: 0.7546 - auc: 0.8332 - val_loss: 0.5281 - val_accuracy: 0.7343 - val_auc: 0.8159\n",
      "Epoch 8/20\n",
      "80/80 [==============================] - 28s 353ms/step - loss: 0.9860 - accuracy: 0.7645 - auc: 0.8439 - val_loss: 0.5048 - val_accuracy: 0.7657 - val_auc: 0.8192\n",
      "Epoch 9/20\n",
      "80/80 [==============================] - 25s 308ms/step - loss: 0.9488 - accuracy: 0.7831 - auc: 0.8591 - val_loss: 0.5308 - val_accuracy: 0.7269 - val_auc: 0.8245\n",
      "Epoch 10/20\n",
      "80/80 [==============================] - 28s 355ms/step - loss: 0.9219 - accuracy: 0.7906 - auc: 0.8677 - val_loss: 0.4938 - val_accuracy: 0.7712 - val_auc: 0.8281\n",
      "Epoch 11/20\n",
      "80/80 [==============================] - 25s 308ms/step - loss: 0.9083 - accuracy: 0.7965 - auc: 0.8725 - val_loss: 0.5003 - val_accuracy: 0.7620 - val_auc: 0.8313\n",
      "Epoch 12/20\n",
      "80/80 [==============================] - 24s 305ms/step - loss: 0.8766 - accuracy: 0.8080 - auc: 0.8820 - val_loss: 0.5231 - val_accuracy: 0.7417 - val_auc: 0.8345\n",
      "Epoch 13/20\n",
      "80/80 [==============================] - 25s 307ms/step - loss: 0.8614 - accuracy: 0.8131 - auc: 0.8871 - val_loss: 0.5292 - val_accuracy: 0.7454 - val_auc: 0.8367\n",
      "Epoch 14/20\n",
      "80/80 [==============================] - 28s 357ms/step - loss: 0.8390 - accuracy: 0.8147 - auc: 0.8922 - val_loss: 0.4875 - val_accuracy: 0.7694 - val_auc: 0.8387\n",
      "Epoch 15/20\n",
      "80/80 [==============================] - 24s 295ms/step - loss: 0.8684 - accuracy: 0.8084 - auc: 0.8830 - val_loss: 0.4997 - val_accuracy: 0.7675 - val_auc: 0.8392\n",
      "Epoch 16/20\n",
      "80/80 [==============================] - 25s 310ms/step - loss: 0.8225 - accuracy: 0.8234 - auc: 0.8992 - val_loss: 0.4910 - val_accuracy: 0.7731 - val_auc: 0.8400\n",
      "Epoch 17/20\n",
      "80/80 [==============================] - 24s 306ms/step - loss: 0.7938 - accuracy: 0.8325 - auc: 0.9051 - val_loss: 0.4888 - val_accuracy: 0.7694 - val_auc: 0.8413\n",
      "Epoch 18/20\n",
      "80/80 [==============================] - 24s 301ms/step - loss: 0.7729 - accuracy: 0.8345 - auc: 0.9111 - val_loss: 0.5310 - val_accuracy: 0.7601 - val_auc: 0.8414\n",
      "Epoch 19/20\n",
      "80/80 [==============================] - 24s 302ms/step - loss: 0.7663 - accuracy: 0.8400 - auc: 0.9129 - val_loss: 0.5194 - val_accuracy: 0.7638 - val_auc: 0.8425\n",
      "Epoch 20/20\n",
      "80/80 [==============================] - 28s 356ms/step - loss: 0.7720 - accuracy: 0.8337 - auc: 0.9082 - val_loss: 0.4872 - val_accuracy: 0.7731 - val_auc: 0.8436\n"
     ]
    },
    {
     "data": {
      "text/plain": [
       "<keras.src.callbacks.History at 0x795bbad13160>"
      ]
     },
     "execution_count": 39,
     "metadata": {},
     "output_type": "execute_result"
    }
   ],
   "source": [
    "model.fit(X_train,y_train,validation_data=(X_val,y_val),epochs=20,callbacks=[cp],class_weight=weights)"
   ]
  },
  {
   "cell_type": "code",
   "execution_count": 40,
   "id": "2920db7a",
   "metadata": {
    "execution": {
     "iopub.execute_input": "2024-01-29T18:16:08.492686Z",
     "iopub.status.busy": "2024-01-29T18:16:08.492238Z",
     "iopub.status.idle": "2024-01-29T18:16:10.213229Z",
     "shell.execute_reply": "2024-01-29T18:16:10.211951Z"
    },
    "papermill": {
     "duration": 1.906255,
     "end_time": "2024-01-29T18:16:10.222235",
     "exception": false,
     "start_time": "2024-01-29T18:16:08.315980",
     "status": "completed"
    },
    "tags": []
   },
   "outputs": [],
   "source": [
    "from keras.models import load_model\n",
    "\n",
    "best_model = load_model('model/')"
   ]
  },
  {
   "cell_type": "code",
   "execution_count": 41,
   "id": "fda5ce86",
   "metadata": {
    "execution": {
     "iopub.execute_input": "2024-01-29T18:16:10.576403Z",
     "iopub.status.busy": "2024-01-29T18:16:10.575950Z",
     "iopub.status.idle": "2024-01-29T18:16:12.803906Z",
     "shell.execute_reply": "2024-01-29T18:16:12.802669Z"
    },
    "papermill": {
     "duration": 2.409219,
     "end_time": "2024-01-29T18:16:12.806629",
     "exception": false,
     "start_time": "2024-01-29T18:16:10.397410",
     "status": "completed"
    },
    "tags": []
   },
   "outputs": [
    {
     "name": "stdout",
     "output_type": "stream",
     "text": [
      "17/17 [==============================] - 2s 88ms/step\n",
      "              precision    recall  f1-score   support\n",
      "\n",
      "           0       0.82      0.80      0.81       333\n",
      "           1       0.69      0.72      0.70       210\n",
      "\n",
      "    accuracy                           0.77       543\n",
      "   macro avg       0.75      0.76      0.76       543\n",
      "weighted avg       0.77      0.77      0.77       543\n",
      "\n"
     ]
    }
   ],
   "source": [
    "test_predictions = (best_model.predict(X_test) > 0.5).astype(int)\n",
    "\n",
    "from sklearn.metrics import classification_report\n",
    "\n",
    "print(classification_report(y_test, test_predictions))"
   ]
  },
  {
   "cell_type": "code",
   "execution_count": 42,
   "id": "a75263ec",
   "metadata": {
    "execution": {
     "iopub.execute_input": "2024-01-29T18:16:13.162543Z",
     "iopub.status.busy": "2024-01-29T18:16:13.161559Z",
     "iopub.status.idle": "2024-01-29T18:16:13.791816Z",
     "shell.execute_reply": "2024-01-29T18:16:13.790671Z"
    },
    "papermill": {
     "duration": 0.81173,
     "end_time": "2024-01-29T18:16:13.794348",
     "exception": false,
     "start_time": "2024-01-29T18:16:12.982618",
     "status": "completed"
    },
    "tags": []
   },
   "outputs": [
    {
     "data": {
      "text/plain": [
       "<Axes: >"
      ]
     },
     "execution_count": 42,
     "metadata": {},
     "output_type": "execute_result"
    },
    {
     "data": {
      "image/png": "[encoded data removed]",
      "text/plain": [
       "<Figure size 640x480 with 2 Axes>"
      ]
     },
     "metadata": {},
     "output_type": "display_data"
    }
   ],
   "source": [
    "from sklearn import metrics\n",
    "\n",
    "cm=metrics.confusion_matrix(test_predictions,y_test)\n",
    "cm=cm/cm.sum()*100\n",
    "\n",
    "import seaborn as sns\n",
    "\n",
    "sns.heatmap(cm,annot=True,cmap='bwr')"
   ]
  },
  {
   "cell_type": "code",
   "execution_count": null,
   "id": "f88d8bb0",
   "metadata": {
    "papermill": {
     "duration": 0.177138,
     "end_time": "2024-01-29T18:16:14.147087",
     "exception": false,
     "start_time": "2024-01-29T18:16:13.969949",
     "status": "completed"
    },
    "tags": []
   },
   "outputs": [],
   "source": []
  }
 ],
 "metadata": {
  "kaggle": {
   "accelerator": "none",
   "dataSources": [
    {
     "datasetId": 4369374,
     "sourceId": 7503231,
     "sourceType": "datasetVersion"
    },
    {
     "datasetId": 4372194,
     "sourceId": 7507345,
     "sourceType": "datasetVersion"
    }
   ],
   "dockerImageVersionId": 30635,
   "isGpuEnabled": false,
   "isInternetEnabled": true,
   "language": "python",
   "sourceType": "notebook"
  },
  "kernelspec": {
   "display_name": "Python 3",
   "language": "python",
   "name": "python3"
  },
  "language_info": {
   "codemirror_mode": {
    "name": "ipython",
    "version": 3
   },
   "file_extension": ".py",
   "mimetype": "text/x-python",
   "name": "python",
   "nbconvert_exporter": "python",
   "pygments_lexer": "ipython3",
   "version": "3.10.12"
  },
  "papermill": {
   "default_parameters": {},
   "duration": 599.836094,
   "end_time": "2024-01-29T18:16:18.007259",
   "environment_variables": {},
   "exception": null,
   "input_path": "__notebook__.ipynb",
   "output_path": "__notebook__.ipynb",
   "parameters": {},
   "start_time": "2024-01-29T18:06:18.171165",
   "version": "2.4.0"
  }
 },
 "nbformat": 4,
 "nbformat_minor": 5
}
