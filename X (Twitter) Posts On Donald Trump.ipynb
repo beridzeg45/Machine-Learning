{
 "cells": [
  {
   "cell_type": "code",
   "execution_count": 2,
   "metadata": {},
   "outputs": [],
   "source": [
    "from selenium import webdriver\n",
    "from selenium.webdriver.support.wait import WebDriverWait\n",
    "from selenium.webdriver.support import expected_conditions\n",
    "from selenium.webdriver.common.by import By\n",
    "from selenium.webdriver.common.keys import Keys\n",
    "from selenium.webdriver.common.action_chains import ActionChains\n",
    "from selenium.webdriver.support.ui import Select\n",
    "\n",
    "from bs4 import BeautifulSoup\n",
    "import requests\n",
    "import time\n",
    "\n",
    "import pandas as pd\n",
    "import datetime"
   ]
  },
  {
   "cell_type": "code",
   "execution_count": 2,
   "metadata": {},
   "outputs": [],
   "source": [
    "from selenium.webdriver.edge.options import Options\n",
    "edge_options = Options()\n",
    "edge_options.add_experimental_option(\"detach\", True)\n",
    "edge_options.add_argument(\"--remote-debugging-port=9222\") \n",
    "edge_options.add_experimental_option('useAutomationExtension', False) \n",
    "edge_options.add_experimental_option(\"excludeSwitches\", [\"enable-automation\"])"
   ]
  },
  {
   "cell_type": "code",
   "execution_count": 3,
   "metadata": {},
   "outputs": [],
   "source": [
    "driver = webdriver.Edge(options=edge_options)\n",
    "driver.maximize_window()"
   ]
  },
  {
   "cell_type": "code",
   "execution_count": 4,
   "metadata": {},
   "outputs": [],
   "source": [
    "url='https://twitter.com/home'\n",
    "driver.get(url)\n",
    "time.sleep(2)"
   ]
  },
  {
   "cell_type": "code",
   "execution_count": 5,
   "metadata": {},
   "outputs": [],
   "source": [
    "driver.find_element(By.CSS_SELECTOR,'div[class=\"css-175oi2r r-16y2uox r-1wbh5a2 r-1jgb5lz r-13qz1uu r-1ye8kvj\"] div[class=\"css-175oi2r r-ywje51 r-usiww2 r-eu3ka r-1ipicw7\"]').click()"
   ]
  },
  {
   "cell_type": "code",
   "execution_count": 6,
   "metadata": {},
   "outputs": [],
   "source": [
    "window_handles = driver.window_handles\n",
    "if len(window_handles) > 1:\n",
    "    driver.switch_to.window(window_handles[1])\n",
    "time.sleep(2)"
   ]
  },
  {
   "cell_type": "code",
   "execution_count": 7,
   "metadata": {},
   "outputs": [],
   "source": [
    "sign_in_box=driver.find_element(By.CSS_SELECTOR,'div[class=\"Xb9hP\"] input[class=\"whsOnd zHQkBf\"]')\n",
    "sign_in_box.clear()\n",
    "time.sleep(2)\n",
    "sign_in_box.click()\n",
    "\n",
    "text_to_paste='myemail.gmail.com'\n",
    "sign_in_box.send_keys(text_to_paste)\n",
    "sign_in_box.send_keys(Keys.RETURN)\n",
    "time.sleep(2)"
   ]
  },
  {
   "cell_type": "code",
   "execution_count": 8,
   "metadata": {},
   "outputs": [],
   "source": [
    "sign_in_box=driver.find_element(By.CSS_SELECTOR,'div[class=\"Xb9hP\"] input[class=\"whsOnd zHQkBf\"]')\n",
    "sign_in_box.clear()\n",
    "time.sleep(2)\n",
    "sign_in_box.click()\n",
    "\n",
    "text_to_paste='mypassword'\n",
    "sign_in_box.send_keys(text_to_paste)\n",
    "sign_in_box.send_keys(Keys.RETURN)\n",
    "time.sleep(2)"
   ]
  },
  {
   "cell_type": "code",
   "execution_count": 9,
   "metadata": {},
   "outputs": [],
   "source": [
    "driver.switch_to.window(window_handles[0])\n",
    "time.sleep(2)"
   ]
  },
  {
   "cell_type": "code",
   "execution_count": 10,
   "metadata": {},
   "outputs": [],
   "source": [
    "try:\n",
    "    driver.find_element(By.CSS_SELECTOR,'div[class=\"css-175oi2r r-13qz1uu\"] div[role=\"button\"]').click()\n",
    "except:\n",
    "    None"
   ]
  },
  {
   "cell_type": "code",
   "execution_count": 11,
   "metadata": {},
   "outputs": [
    {
     "data": {
      "text/plain": [
       "'search_bar=WebDriverWait(driver,10).until(expected_conditions.visibility_of_element_located((By.CSS_SELECTOR,\\'div[class=\"css-175oi2r r-aqfbo4 r-gtdqiz r-1gn8etr r-1g40b8q\"] input\\')))\\nsearch_bar.clear()\\ntime.sleep(2)\\nsearch_bar.click()\\n\\ntext_to_paste=\\'#trump\\'\\nsearch_bar.send_keys(text_to_paste)\\nsearch_bar.send_keys(Keys.RETURN)\\ntime.sleep(2)'"
      ]
     },
     "execution_count": 11,
     "metadata": {},
     "output_type": "execute_result"
    }
   ],
   "source": [
    "\"\"\"search_bar=WebDriverWait(driver,10).until(expected_conditions.visibility_of_element_located((By.CSS_SELECTOR,'div[class=\"css-175oi2r r-aqfbo4 r-gtdqiz r-1gn8etr r-1g40b8q\"] input')))\n",
    "search_bar.clear()\n",
    "time.sleep(2)\n",
    "search_bar.click()\n",
    "\n",
    "text_to_paste='#trump'\n",
    "search_bar.send_keys(text_to_paste)\n",
    "search_bar.send_keys(Keys.RETURN)\n",
    "time.sleep(2)\"\"\""
   ]
  },
  {
   "cell_type": "code",
   "execution_count": 12,
   "metadata": {},
   "outputs": [],
   "source": [
    "driver.get('https://twitter.com/search?q=%23trump&src=typed_query')"
   ]
  },
  {
   "cell_type": "code",
   "execution_count": 13,
   "metadata": {},
   "outputs": [
    {
     "name": "stdout",
     "output_type": "stream",
     "text": [
      "Tweets: 235, Arrows Down: 30\r"
     ]
    }
   ],
   "source": [
    "actions=ActionChains(driver)\n",
    "date_scraped=pd.to_datetime(datetime.date.today()).strftime('%Y-%m-%d')\n",
    "\n",
    "data=[]\n",
    "for _ in range(31):\n",
    "    driver.execute_script(\"window.scrollTo(0, document.body.scrollHeight);\")\n",
    "    time.sleep(2)\n",
    "    elements=driver.find_elements(By.CSS_SELECTOR,'div[data-testid=\"cellInnerDiv\"]')\n",
    "\n",
    "    for element in elements:\n",
    "        try:\n",
    "            author_and_date=element.find_element(By.CSS_SELECTOR,'div[class=\"css-175oi2r r-zl2h9q\"]').get_attribute('textContent').replace('\\n','')\n",
    "        except:\n",
    "            author_and_date=None\n",
    "\n",
    "        try:\n",
    "            text=element.find_element(By.CSS_SELECTOR,'div[data-testid=\"tweetText\"]').get_attribute('textContent').replace('\\n','')\n",
    "        except:\n",
    "            text=None\n",
    "\n",
    "        try:\n",
    "            engagement=[i.text if i else None for i in element.find_elements(By.CSS_SELECTOR,'div[class=\"css-175oi2r r-1kbdv8c r-18u37iz r-1wtj0ep r-1ye8kvj r-1s2bzr4\"] div[class=\"css-175oi2r r-18u37iz r-1h0z5md r-13awgt0\"]')]\n",
    "        except:\n",
    "            engagement=None\n",
    "\n",
    "        data.append({'Author And Date':author_and_date,'Text':text,'Engagement':engagement,'Date Scraped':date_scraped})\n",
    "        print(f'Tweets: {len(data)}, Arrows Down: {_}',end='\\r')"
   ]
  },
  {
   "cell_type": "code",
   "execution_count": 14,
   "metadata": {},
   "outputs": [
    {
     "data": {
      "text/html": [
       "<div>\n",
       "<style scoped>\n",
       "    .dataframe tbody tr th:only-of-type {\n",
       "        vertical-align: middle;\n",
       "    }\n",
       "\n",
       "    .dataframe tbody tr th {\n",
       "        vertical-align: top;\n",
       "    }\n",
       "\n",
       "    .dataframe thead th {\n",
       "        text-align: right;\n",
       "    }\n",
       "</style>\n",
       "<table border=\"1\" class=\"dataframe\">\n",
       "  <thead>\n",
       "    <tr style=\"text-align: right;\">\n",
       "      <th></th>\n",
       "      <th>Author And Date</th>\n",
       "      <th>Text</th>\n",
       "      <th>Engagement</th>\n",
       "      <th>Date Scraped</th>\n",
       "    </tr>\n",
       "  </thead>\n",
       "  <tbody>\n",
       "    <tr>\n",
       "      <th>0</th>\n",
       "      <td>OverVechter@112_overvecht·3h</td>\n",
       "      <td>Democrats finally become nazis!#Biden #trump #...</td>\n",
       "      <td>[2, 6, 7, 750]</td>\n",
       "      <td>2023-12-30</td>\n",
       "    </tr>\n",
       "    <tr>\n",
       "      <th>1</th>\n",
       "      <td>DARKSEID_BC_@BcDarkseid·Dec 23</td>\n",
       "      <td>Witnesses to #Trump crapping his pants in fron...</td>\n",
       "      <td>[103, 1K, 1.8K, 140K]</td>\n",
       "      <td>2023-12-30</td>\n",
       "    </tr>\n",
       "    <tr>\n",
       "      <th>2</th>\n",
       "      <td>No Lies Pay it Forward@nolietees·Dec 28</td>\n",
       "      <td>#TRUMP2024ToSaveAmericaMore like #Trump2024ToF...</td>\n",
       "      <td>[20, 57, 114, 1.6K]</td>\n",
       "      <td>2023-12-30</td>\n",
       "    </tr>\n",
       "    <tr>\n",
       "      <th>3</th>\n",
       "      <td>GIFT OF THE GAB@giftgab538·Dec 23</td>\n",
       "      <td>#Elections2024 #Democracy #Elon  #Trump #Ronn...</td>\n",
       "      <td>[80, 983, 1.2K, 23K]</td>\n",
       "      <td>2023-12-30</td>\n",
       "    </tr>\n",
       "    <tr>\n",
       "      <th>4</th>\n",
       "      <td>Brandon Taylor Moore@LetsGoBrando45·Dec 24·</td>\n",
       "      <td>You’re ignorant to the facts if you believe #T...</td>\n",
       "      <td>[12, 41, 65, 3K]</td>\n",
       "      <td>2023-12-30</td>\n",
       "    </tr>\n",
       "    <tr>\n",
       "      <th>...</th>\n",
       "      <td>...</td>\n",
       "      <td>...</td>\n",
       "      <td>...</td>\n",
       "      <td>...</td>\n",
       "    </tr>\n",
       "    <tr>\n",
       "      <th>195</th>\n",
       "      <td>True Blue @SPBMcKenna·Dec 26</td>\n",
       "      <td>#Trump not only suffers from INCONTINENCE, he...</td>\n",
       "      <td>[20, 48, 88, 2K]</td>\n",
       "      <td>2023-12-30</td>\n",
       "    </tr>\n",
       "    <tr>\n",
       "      <th>200</th>\n",
       "      <td>Politics@Politics15419·Dec 28</td>\n",
       "      <td>Win with DeSantis, lose with Trump.#Trump is f...</td>\n",
       "      <td>[1, , 1, 30]</td>\n",
       "      <td>2023-12-30</td>\n",
       "    </tr>\n",
       "    <tr>\n",
       "      <th>201</th>\n",
       "      <td>No Lies Pay it Forward@nolietees·Dec 26</td>\n",
       "      <td>Yes, we remember the \"Trump Healthcare\" book h...</td>\n",
       "      <td>[1, 7, 14, 184]</td>\n",
       "      <td>2023-12-30</td>\n",
       "    </tr>\n",
       "    <tr>\n",
       "      <th>202</th>\n",
       "      <td>Scamnomics@scamnomics9·Dec 23</td>\n",
       "      <td>THE PLUNGE PROTECTION FUND ARE TRYING TO SAVE ...</td>\n",
       "      <td>[2, 2, 1, 3.1K]</td>\n",
       "      <td>2023-12-30</td>\n",
       "    </tr>\n",
       "    <tr>\n",
       "      <th>203</th>\n",
       "      <td>TalkRadio 77 WABC@77WABCradio·20h</td>\n",
       "      <td>On latest @RitaCosby Show: #Maine becomes 2nd ...</td>\n",
       "      <td>[2, 54, 31, 2.6K]</td>\n",
       "      <td>2023-12-30</td>\n",
       "    </tr>\n",
       "  </tbody>\n",
       "</table>\n",
       "<p>179 rows × 4 columns</p>\n",
       "</div>"
      ],
      "text/plain": [
       "                                 Author And Date  \\\n",
       "0                   OverVechter@112_overvecht·3h   \n",
       "1                 DARKSEID_BC_@BcDarkseid·Dec 23   \n",
       "2        No Lies Pay it Forward@nolietees·Dec 28   \n",
       "3              GIFT OF THE GAB@giftgab538·Dec 23   \n",
       "4    Brandon Taylor Moore@LetsGoBrando45·Dec 24·   \n",
       "..                                           ...   \n",
       "195                 True Blue @SPBMcKenna·Dec 26   \n",
       "200                Politics@Politics15419·Dec 28   \n",
       "201      No Lies Pay it Forward@nolietees·Dec 26   \n",
       "202                Scamnomics@scamnomics9·Dec 23   \n",
       "203            TalkRadio 77 WABC@77WABCradio·20h   \n",
       "\n",
       "                                                  Text             Engagement  \\\n",
       "0    Democrats finally become nazis!#Biden #trump #...         [2, 6, 7, 750]   \n",
       "1    Witnesses to #Trump crapping his pants in fron...  [103, 1K, 1.8K, 140K]   \n",
       "2    #TRUMP2024ToSaveAmericaMore like #Trump2024ToF...    [20, 57, 114, 1.6K]   \n",
       "3     #Elections2024 #Democracy #Elon  #Trump #Ronn...   [80, 983, 1.2K, 23K]   \n",
       "4    You’re ignorant to the facts if you believe #T...       [12, 41, 65, 3K]   \n",
       "..                                                 ...                    ...   \n",
       "195   #Trump not only suffers from INCONTINENCE, he...       [20, 48, 88, 2K]   \n",
       "200  Win with DeSantis, lose with Trump.#Trump is f...           [1, , 1, 30]   \n",
       "201  Yes, we remember the \"Trump Healthcare\" book h...        [1, 7, 14, 184]   \n",
       "202  THE PLUNGE PROTECTION FUND ARE TRYING TO SAVE ...        [2, 2, 1, 3.1K]   \n",
       "203  On latest @RitaCosby Show: #Maine becomes 2nd ...      [2, 54, 31, 2.6K]   \n",
       "\n",
       "    Date Scraped  \n",
       "0     2023-12-30  \n",
       "1     2023-12-30  \n",
       "2     2023-12-30  \n",
       "3     2023-12-30  \n",
       "4     2023-12-30  \n",
       "..           ...  \n",
       "195   2023-12-30  \n",
       "200   2023-12-30  \n",
       "201   2023-12-30  \n",
       "202   2023-12-30  \n",
       "203   2023-12-30  \n",
       "\n",
       "[179 rows x 4 columns]"
      ]
     },
     "execution_count": 14,
     "metadata": {},
     "output_type": "execute_result"
    }
   ],
   "source": [
    "df=pd.DataFrame(data).drop_duplicates(subset=['Author And Date','Text']).dropna(how='all')\n",
    "df"
   ]
  },
  {
   "cell_type": "code",
   "execution_count": 15,
   "metadata": {},
   "outputs": [],
   "source": [
    "#df.to_csv('csv_files/X.csv',index=False)"
   ]
  },
  {
   "cell_type": "code",
   "execution_count": 16,
   "metadata": {},
   "outputs": [],
   "source": [
    "#df=pd.read_csv('csv_files/X.csv')"
   ]
  },
  {
   "cell_type": "markdown",
   "metadata": {},
   "source": [
    "### Cleaning Dataset"
   ]
  },
  {
   "cell_type": "code",
   "execution_count": null,
   "metadata": {},
   "outputs": [],
   "source": [
    "df.insert(0,'User Name',df['Author And Date'].apply(lambda x:'@'+x.split('·')[0].split('@')[-1] if isinstance(x,str) else None))"
   ]
  },
  {
   "cell_type": "code",
   "execution_count": null,
   "metadata": {},
   "outputs": [],
   "source": [
    "df=df['Author And Date'].apply(lambda x:x.split('·')[-1] if isinstance(x,str) else None)\n",
    "\n",
    "today=pd.to_datetime(datetime.date.today()).strftime(\"%b %d, %Y\")\n",
    "df['Post Date']=df['Post Date'].apply(lambda x:x+', 2023' if ' ' in str(x) else today)"
   ]
  },
  {
   "cell_type": "code",
   "execution_count": 24,
   "metadata": {},
   "outputs": [],
   "source": [
    "df=df.drop(columns='Author And Date')"
   ]
  },
  {
   "cell_type": "code",
   "execution_count": 28,
   "metadata": {},
   "outputs": [],
   "source": [
    "import ast\n",
    "def ast_(str):\n",
    "    try:\n",
    "        return ast.literal_eval(str)\n",
    "    except:\n",
    "        return None\n",
    "\n",
    "df['Engagement']=df['Engagement'].apply(ast_)"
   ]
  },
  {
   "cell_type": "code",
   "execution_count": 34,
   "metadata": {},
   "outputs": [],
   "source": [
    "engagement_dict_list=[]\n",
    "for engagement in df['Engagement']:\n",
    "    if isinstance(engagement,list):\n",
    "        engagement_dict={'Comments':engagement[0],'Reposts':engagement[1],'Likes':engagement[2],'Views':engagement[3]}\n",
    "        engagement_dict_list.append(engagement_dict)\n",
    "    else:\n",
    "        engagement_dict_list.append(None)"
   ]
  },
  {
   "cell_type": "code",
   "execution_count": 36,
   "metadata": {},
   "outputs": [],
   "source": [
    "df['Engagement']=engagement_dict_list"
   ]
  },
  {
   "cell_type": "code",
   "execution_count": 26,
   "metadata": {},
   "outputs": [],
   "source": [
    "df.to_csv('csv_files/X.csv',index=False)"
   ]
  },
  {
   "cell_type": "code",
   "execution_count": 27,
   "metadata": {},
   "outputs": [],
   "source": [
    "df=pd.read_csv('csv_files/X.csv')"
   ]
  },
  {
   "cell_type": "code",
   "execution_count": 28,
   "metadata": {},
   "outputs": [
    {
     "data": {
      "text/html": [
       "<div>\n",
       "<style scoped>\n",
       "    .dataframe tbody tr th:only-of-type {\n",
       "        vertical-align: middle;\n",
       "    }\n",
       "\n",
       "    .dataframe tbody tr th {\n",
       "        vertical-align: top;\n",
       "    }\n",
       "\n",
       "    .dataframe thead th {\n",
       "        text-align: right;\n",
       "    }\n",
       "</style>\n",
       "<table border=\"1\" class=\"dataframe\">\n",
       "  <thead>\n",
       "    <tr style=\"text-align: right;\">\n",
       "      <th></th>\n",
       "      <th>User Name</th>\n",
       "      <th>Text</th>\n",
       "      <th>Engagement</th>\n",
       "      <th>Date Scraped</th>\n",
       "      <th>Post Date</th>\n",
       "    </tr>\n",
       "  </thead>\n",
       "  <tbody>\n",
       "    <tr>\n",
       "      <th>0</th>\n",
       "      <td>@112_overvecht</td>\n",
       "      <td>Democrats finally become nazis!#Biden #trump #...</td>\n",
       "      <td>{'Comments': '2', 'Reposts': '6', 'Likes': '7'...</td>\n",
       "      <td>2023-12-30</td>\n",
       "      <td>Dec 30, 2023</td>\n",
       "    </tr>\n",
       "    <tr>\n",
       "      <th>1</th>\n",
       "      <td>@BcDarkseid</td>\n",
       "      <td>Witnesses to #Trump crapping his pants in fron...</td>\n",
       "      <td>{'Comments': '103', 'Reposts': '1K', 'Likes': ...</td>\n",
       "      <td>2023-12-30</td>\n",
       "      <td>Dec 23, 2023</td>\n",
       "    </tr>\n",
       "    <tr>\n",
       "      <th>2</th>\n",
       "      <td>@nolietees</td>\n",
       "      <td>#TRUMP2024ToSaveAmericaMore like #Trump2024ToF...</td>\n",
       "      <td>{'Comments': '20', 'Reposts': '57', 'Likes': '...</td>\n",
       "      <td>2023-12-30</td>\n",
       "      <td>Dec 28, 2023</td>\n",
       "    </tr>\n",
       "    <tr>\n",
       "      <th>3</th>\n",
       "      <td>@giftgab538</td>\n",
       "      <td>#Elections2024 #Democracy #Elon  #Trump #Ronn...</td>\n",
       "      <td>{'Comments': '80', 'Reposts': '983', 'Likes': ...</td>\n",
       "      <td>2023-12-30</td>\n",
       "      <td>Dec 23, 2023</td>\n",
       "    </tr>\n",
       "    <tr>\n",
       "      <th>4</th>\n",
       "      <td>@LetsGoBrando45</td>\n",
       "      <td>You’re ignorant to the facts if you believe #T...</td>\n",
       "      <td>{'Comments': '12', 'Reposts': '41', 'Likes': '...</td>\n",
       "      <td>2023-12-30</td>\n",
       "      <td>Dec 30, 2023</td>\n",
       "    </tr>\n",
       "    <tr>\n",
       "      <th>...</th>\n",
       "      <td>...</td>\n",
       "      <td>...</td>\n",
       "      <td>...</td>\n",
       "      <td>...</td>\n",
       "      <td>...</td>\n",
       "    </tr>\n",
       "    <tr>\n",
       "      <th>174</th>\n",
       "      <td>@SPBMcKenna</td>\n",
       "      <td>#Trump not only suffers from INCONTINENCE, he...</td>\n",
       "      <td>{'Comments': '20', 'Reposts': '48', 'Likes': '...</td>\n",
       "      <td>2023-12-30</td>\n",
       "      <td>Dec 26, 2023</td>\n",
       "    </tr>\n",
       "    <tr>\n",
       "      <th>175</th>\n",
       "      <td>@Politics15419</td>\n",
       "      <td>Win with DeSantis, lose with Trump.#Trump is f...</td>\n",
       "      <td>{'Comments': '1', 'Reposts': '', 'Likes': '1',...</td>\n",
       "      <td>2023-12-30</td>\n",
       "      <td>Dec 28, 2023</td>\n",
       "    </tr>\n",
       "    <tr>\n",
       "      <th>176</th>\n",
       "      <td>@nolietees</td>\n",
       "      <td>Yes, we remember the \"Trump Healthcare\" book h...</td>\n",
       "      <td>{'Comments': '1', 'Reposts': '7', 'Likes': '14...</td>\n",
       "      <td>2023-12-30</td>\n",
       "      <td>Dec 26, 2023</td>\n",
       "    </tr>\n",
       "    <tr>\n",
       "      <th>177</th>\n",
       "      <td>@scamnomics9</td>\n",
       "      <td>THE PLUNGE PROTECTION FUND ARE TRYING TO SAVE ...</td>\n",
       "      <td>{'Comments': '2', 'Reposts': '2', 'Likes': '1'...</td>\n",
       "      <td>2023-12-30</td>\n",
       "      <td>Dec 23, 2023</td>\n",
       "    </tr>\n",
       "    <tr>\n",
       "      <th>178</th>\n",
       "      <td>@77WABCradio</td>\n",
       "      <td>On latest @RitaCosby Show: #Maine becomes 2nd ...</td>\n",
       "      <td>{'Comments': '2', 'Reposts': '54', 'Likes': '3...</td>\n",
       "      <td>2023-12-30</td>\n",
       "      <td>Dec 30, 2023</td>\n",
       "    </tr>\n",
       "  </tbody>\n",
       "</table>\n",
       "<p>179 rows × 5 columns</p>\n",
       "</div>"
      ],
      "text/plain": [
       "           User Name                                               Text  \\\n",
       "0     @112_overvecht  Democrats finally become nazis!#Biden #trump #...   \n",
       "1        @BcDarkseid  Witnesses to #Trump crapping his pants in fron...   \n",
       "2         @nolietees  #TRUMP2024ToSaveAmericaMore like #Trump2024ToF...   \n",
       "3        @giftgab538   #Elections2024 #Democracy #Elon  #Trump #Ronn...   \n",
       "4    @LetsGoBrando45  You’re ignorant to the facts if you believe #T...   \n",
       "..               ...                                                ...   \n",
       "174      @SPBMcKenna   #Trump not only suffers from INCONTINENCE, he...   \n",
       "175   @Politics15419  Win with DeSantis, lose with Trump.#Trump is f...   \n",
       "176       @nolietees  Yes, we remember the \"Trump Healthcare\" book h...   \n",
       "177     @scamnomics9  THE PLUNGE PROTECTION FUND ARE TRYING TO SAVE ...   \n",
       "178     @77WABCradio  On latest @RitaCosby Show: #Maine becomes 2nd ...   \n",
       "\n",
       "                                            Engagement Date Scraped  \\\n",
       "0    {'Comments': '2', 'Reposts': '6', 'Likes': '7'...   2023-12-30   \n",
       "1    {'Comments': '103', 'Reposts': '1K', 'Likes': ...   2023-12-30   \n",
       "2    {'Comments': '20', 'Reposts': '57', 'Likes': '...   2023-12-30   \n",
       "3    {'Comments': '80', 'Reposts': '983', 'Likes': ...   2023-12-30   \n",
       "4    {'Comments': '12', 'Reposts': '41', 'Likes': '...   2023-12-30   \n",
       "..                                                 ...          ...   \n",
       "174  {'Comments': '20', 'Reposts': '48', 'Likes': '...   2023-12-30   \n",
       "175  {'Comments': '1', 'Reposts': '', 'Likes': '1',...   2023-12-30   \n",
       "176  {'Comments': '1', 'Reposts': '7', 'Likes': '14...   2023-12-30   \n",
       "177  {'Comments': '2', 'Reposts': '2', 'Likes': '1'...   2023-12-30   \n",
       "178  {'Comments': '2', 'Reposts': '54', 'Likes': '3...   2023-12-30   \n",
       "\n",
       "        Post Date  \n",
       "0    Dec 30, 2023  \n",
       "1    Dec 23, 2023  \n",
       "2    Dec 28, 2023  \n",
       "3    Dec 23, 2023  \n",
       "4    Dec 30, 2023  \n",
       "..            ...  \n",
       "174  Dec 26, 2023  \n",
       "175  Dec 28, 2023  \n",
       "176  Dec 26, 2023  \n",
       "177  Dec 23, 2023  \n",
       "178  Dec 30, 2023  \n",
       "\n",
       "[179 rows x 5 columns]"
      ]
     },
     "execution_count": 28,
     "metadata": {},
     "output_type": "execute_result"
    }
   ],
   "source": [
    "df"
   ]
  },
  {
   "cell_type": "code",
   "execution_count": null,
   "metadata": {},
   "outputs": [],
   "source": []
  }
 ],
 "metadata": {
  "kernelspec": {
   "display_name": "Python 3",
   "language": "python",
   "name": "python3"
  },
  "language_info": {
   "codemirror_mode": {
    "name": "ipython",
    "version": 3
   },
   "file_extension": ".py",
   "mimetype": "text/x-python",
   "name": "python",
   "nbconvert_exporter": "python",
   "pygments_lexer": "ipython3",
   "version": "3.11.3"
  }
 },
 "nbformat": 4,
 "nbformat_minor": 2
}
