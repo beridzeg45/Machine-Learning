{
 "cells": [
  {
   "cell_type": "markdown",
   "metadata": {},
   "source": [
    "### Predicting whether the user gave rating below 8 or above(or equal to) 8 based on his/her review"
   ]
  },
  {
   "cell_type": "code",
   "execution_count": 1,
   "metadata": {},
   "outputs": [],
   "source": [
    "import pandas as pd\n",
    "import numpy as np \n",
    "import kaggle"
   ]
  },
  {
   "cell_type": "code",
   "execution_count": 2,
   "metadata": {},
   "outputs": [],
   "source": [
    "#kaggle.api.dataset_download_files('beridzeg45/my-favorite-movies','csv_files',quiet=False,unzip=True)"
   ]
  },
  {
   "cell_type": "markdown",
   "metadata": {},
   "source": [
    "### Preprocessing"
   ]
  },
  {
   "cell_type": "code",
   "execution_count": 3,
   "metadata": {},
   "outputs": [],
   "source": [
    "df=pd.read_csv('csv_files/IMDB_reviews.csv')"
   ]
  },
  {
   "cell_type": "code",
   "execution_count": 4,
   "metadata": {},
   "outputs": [],
   "source": [
    "df=df[['Review Text','Rating By User']]"
   ]
  },
  {
   "cell_type": "code",
   "execution_count": 5,
   "metadata": {},
   "outputs": [],
   "source": [
    "df['Rating By User']=df['Rating By User'].apply(lambda x:x.split('/')[0] if isinstance(x,str) else None).apply(pd.to_numeric,errors='coerce')"
   ]
  },
  {
   "cell_type": "code",
   "execution_count": 6,
   "metadata": {},
   "outputs": [],
   "source": [
    "df['Rating By User']=df['Rating By User'].apply(lambda x:1 if x>=8 else 0)"
   ]
  },
  {
   "cell_type": "code",
   "execution_count": 7,
   "metadata": {},
   "outputs": [],
   "source": [
    "df=df.dropna(how='any')"
   ]
  },
  {
   "cell_type": "code",
   "execution_count": 8,
   "metadata": {},
   "outputs": [],
   "source": [
    "df=df.sample(5000).sample(frac=1).reset_index(drop=True)"
   ]
  },
  {
   "cell_type": "code",
   "execution_count": 23,
   "metadata": {},
   "outputs": [
    {
     "data": {
      "text/plain": [
       "<Axes: ylabel='count'>"
      ]
     },
     "execution_count": 23,
     "metadata": {},
     "output_type": "execute_result"
    },
    {
     "data": {
      "image/png": "[encoded data removed]",
      "text/plain": [
       "<Figure size 640x480 with 1 Axes>"
      ]
     },
     "metadata": {},
     "output_type": "display_data"
    }
   ],
   "source": [
    "df['Rating By User'].value_counts().plot.pie()"
   ]
  },
  {
   "cell_type": "markdown",
   "metadata": {},
   "source": [
    "##### Define vectors dictionary"
   ]
  },
  {
   "cell_type": "code",
   "execution_count": 9,
   "metadata": {},
   "outputs": [
    {
     "data": {
      "text/plain": [
       "400000"
      ]
     },
     "execution_count": 9,
     "metadata": {},
     "output_type": "execute_result"
    }
   ],
   "source": [
    "vector_dict={}\n",
    "with open('csv_files/glove.6B/glove.6B.50d.txt','r',encoding='utf-8') as f:\n",
    "    lines=f.readlines()\n",
    "    for line in lines:\n",
    "        try:\n",
    "            line=line.split(' ')\n",
    "            vector_dict[line[0]]=np.array(line[1:],dtype=float)\n",
    "        except:\n",
    "            continue\n",
    "len(vector_dict)"
   ]
  },
  {
   "cell_type": "markdown",
   "metadata": {},
   "source": [
    "##### Convert text to tokens"
   ]
  },
  {
   "cell_type": "code",
   "execution_count": 10,
   "metadata": {},
   "outputs": [],
   "source": [
    "import nltk\n",
    "\n",
    "tokenizer=nltk.RegexpTokenizer(r'\\w+')\n",
    "lemmatizer=nltk.stem.WordNetLemmatizer()\n",
    "stopwords=nltk.corpus.stopwords.words('english')"
   ]
  },
  {
   "cell_type": "code",
   "execution_count": 11,
   "metadata": {},
   "outputs": [],
   "source": [
    "def text_to_tokens(text):\n",
    "    tokenized=tokenizer.tokenize(text)\n",
    "    lower=[t.lower() for t in tokenized]\n",
    "    lemmatized=[lemmatizer.lemmatize(t) for t in lower]\n",
    "    tokens=[t for t in lemmatized if t in vector_dict]\n",
    "    \n",
    "    return tokens"
   ]
  },
  {
   "cell_type": "markdown",
   "metadata": {},
   "source": [
    "##### Create list of vectors for each text"
   ]
  },
  {
   "cell_type": "code",
   "execution_count": 12,
   "metadata": {},
   "outputs": [],
   "source": [
    "def text_to_vector_list(text):\n",
    "    text_as_tokens=text_to_tokens(text)\n",
    "\n",
    "    vectors_list=[]\n",
    "    for token in text_as_tokens:\n",
    "        if token not in vector_dict:\n",
    "            continue\n",
    "        vector=vector_dict[token]\n",
    "        vectors_list.append(vector)\n",
    "    return np.array(vectors_list,dtype=float)"
   ]
  },
  {
   "cell_type": "markdown",
   "metadata": {},
   "source": [
    "##### Split data into train, validation and test sets"
   ]
  },
  {
   "cell_type": "code",
   "execution_count": 13,
   "metadata": {},
   "outputs": [
    {
     "data": {
      "text/plain": [
       "(3500, 750, 750)"
      ]
     },
     "execution_count": 13,
     "metadata": {},
     "output_type": "execute_result"
    }
   ],
   "source": [
    "split_index_1=int(len(df)*0.7)\n",
    "split_index_2=int(len(df)*0.85)\n",
    "\n",
    "train, val, test=df.iloc[:split_index_1],df.iloc[split_index_1:split_index_2],df.iloc[split_index_2:]\n",
    "\n",
    "len(train), len(val), len(test)"
   ]
  },
  {
   "cell_type": "markdown",
   "metadata": {},
   "source": [
    "##### Create vector sequences (X)"
   ]
  },
  {
   "cell_type": "code",
   "execution_count": 14,
   "metadata": {},
   "outputs": [],
   "source": [
    "def df_to_Xy(df):\n",
    "    y=df['Rating By User'].to_numpy().astype(int)\n",
    "\n",
    "    vector_sequence=[]\n",
    "    for text in df['Review Text']:\n",
    "        vectors_list=text_to_vector_list(text)\n",
    "        if vectors_list.shape[0]==0:\n",
    "            vectors_list=np.zeros(shape=(1,50))\n",
    "        vector_sequence.append(vectors_list)\n",
    "    \n",
    "    return vector_sequence,y"
   ]
  },
  {
   "cell_type": "code",
   "execution_count": 15,
   "metadata": {},
   "outputs": [],
   "source": [
    "X_train,y_train=df_to_Xy(train)\n",
    "X_val,y_val=df_to_Xy(val)\n",
    "X_test,y_test=df_to_Xy(test)"
   ]
  },
  {
   "cell_type": "code",
   "execution_count": 16,
   "metadata": {},
   "outputs": [],
   "source": [
    "length_list=[]\n",
    "for i in df_to_Xy(df)[0]:\n",
    "    length_list.append(i.shape[0])"
   ]
  },
  {
   "cell_type": "code",
   "execution_count": 17,
   "metadata": {},
   "outputs": [],
   "source": [
    "max=0\n",
    "for i in length_list:\n",
    "    if i>max:\n",
    "        max=i"
   ]
  },
  {
   "cell_type": "code",
   "execution_count": 18,
   "metadata": {},
   "outputs": [
    {
     "data": {
      "text/plain": [
       "1826"
      ]
     },
     "execution_count": 18,
     "metadata": {},
     "output_type": "execute_result"
    }
   ],
   "source": [
    "max"
   ]
  },
  {
   "cell_type": "markdown",
   "metadata": {},
   "source": [
    "##### Padding to have uniform input data"
   ]
  },
  {
   "cell_type": "code",
   "execution_count": 19,
   "metadata": {},
   "outputs": [],
   "source": [
    "from copy import deepcopy\n",
    "\n",
    "def pad_X(X,desired_lngth=max):\n",
    "    X_copy=deepcopy(X)\n",
    "\n",
    "    for i, vectors_list in enumerate(X_copy):\n",
    "        vector_length=vectors_list.shape[0]\n",
    "        diff=desired_lngth-vector_length\n",
    "        pad=np.zeros(shape=(diff,50))\n",
    "        \n",
    "        X_copy[i]=np.concatenate([vectors_list,pad])\n",
    "    \n",
    "    return np.array(X_copy).astype(float)"
   ]
  },
  {
   "cell_type": "code",
   "execution_count": 20,
   "metadata": {},
   "outputs": [
    {
     "data": {
      "text/plain": [
       "((3500, 1826, 50), (3500,))"
      ]
     },
     "execution_count": 20,
     "metadata": {},
     "output_type": "execute_result"
    }
   ],
   "source": [
    "X_train=pad_X(X_train)\n",
    "\n",
    "X_train.shape, y_train.shape"
   ]
  },
  {
   "cell_type": "code",
   "execution_count": 21,
   "metadata": {},
   "outputs": [
    {
     "data": {
      "text/plain": [
       "((750, 1826, 50), (750,))"
      ]
     },
     "execution_count": 21,
     "metadata": {},
     "output_type": "execute_result"
    }
   ],
   "source": [
    "X_val = pad_X(X_val)\n",
    "\n",
    "X_val.shape, y_val.shape"
   ]
  },
  {
   "cell_type": "code",
   "execution_count": 22,
   "metadata": {},
   "outputs": [
    {
     "data": {
      "text/plain": [
       "((750, 1826, 50), (750,))"
      ]
     },
     "execution_count": 22,
     "metadata": {},
     "output_type": "execute_result"
    }
   ],
   "source": [
    "X_test = pad_X(X_test)\n",
    "\n",
    "X_test.shape, y_test.shape"
   ]
  },
  {
   "cell_type": "markdown",
   "metadata": {},
   "source": [
    "# Building LSTM Model"
   ]
  },
  {
   "cell_type": "code",
   "execution_count": 24,
   "metadata": {},
   "outputs": [
    {
     "name": "stdout",
     "output_type": "stream",
     "text": [
      "WARNING:tensorflow:From c:\\Users\\berid\\AppData\\Local\\Programs\\Python\\Python311\\Lib\\site-packages\\keras\\src\\losses.py:2976: The name tf.losses.sparse_softmax_cross_entropy is deprecated. Please use tf.compat.v1.losses.sparse_softmax_cross_entropy instead.\n",
      "\n"
     ]
    }
   ],
   "source": [
    "from keras.layers import Dense, LSTM, Input,Dropout\n",
    "from keras import layers\n",
    "from keras.models import Sequential"
   ]
  },
  {
   "cell_type": "code",
   "execution_count": 34,
   "metadata": {},
   "outputs": [
    {
     "name": "stdout",
     "output_type": "stream",
     "text": [
      "Model: \"sequential_1\"\n",
      "_________________________________________________________________\n",
      " Layer (type)                Output Shape              Param #   \n",
      "=================================================================\n",
      " lstm_1 (LSTM)               (None, 1826, 64)          29440     \n",
      "                                                                 \n",
      " dropout_1 (Dropout)         (None, 1826, 64)          0         \n",
      "                                                                 \n",
      " flatten_1 (Flatten)         (None, 116864)            0         \n",
      "                                                                 \n",
      " dense_1 (Dense)             (None, 1)                 116865    \n",
      "                                                                 \n",
      "=================================================================\n",
      "Total params: 146305 (571.50 KB)\n",
      "Trainable params: 146305 (571.50 KB)\n",
      "Non-trainable params: 0 (0.00 Byte)\n",
      "_________________________________________________________________\n"
     ]
    }
   ],
   "source": [
    "model=Sequential()\n",
    "model.add(Input(shape=(max,50)))\n",
    "model.add(LSTM(64,return_sequences=True))\n",
    "model.add(Dropout(0.2))\n",
    "model.add(layers.Flatten())\n",
    "model.add(Dense(1,activation='sigmoid'))\n",
    "\n",
    "model.summary()"
   ]
  },
  {
   "cell_type": "code",
   "execution_count": 35,
   "metadata": {},
   "outputs": [],
   "source": [
    "from keras.losses import BinaryCrossentropy\n",
    "from keras.optimizers import Adam\n",
    "from keras.metrics import AUC\n",
    "from keras.callbacks import ModelCheckpoint"
   ]
  },
  {
   "cell_type": "code",
   "execution_count": 36,
   "metadata": {},
   "outputs": [],
   "source": [
    "cp=ModelCheckpoint('model/',save_best_only=True)"
   ]
  },
  {
   "cell_type": "code",
   "execution_count": 37,
   "metadata": {},
   "outputs": [],
   "source": [
    "model.compile(\n",
    "    optimizer=Adam(learning_rate=0.0001),\n",
    "    loss=BinaryCrossentropy(),\n",
    "    metrics=['accuracy',AUC(name='auc')]\n",
    "    )"
   ]
  },
  {
   "cell_type": "code",
   "execution_count": 38,
   "metadata": {},
   "outputs": [
    {
     "data": {
      "text/plain": [
       "Rating By User\n",
       "1    2938\n",
       "0    2062\n",
       "Name: count, dtype: int64"
      ]
     },
     "execution_count": 38,
     "metadata": {},
     "output_type": "execute_result"
    }
   ],
   "source": [
    "frequencies=df['Rating By User'].value_counts()\n",
    "frequencies"
   ]
  },
  {
   "cell_type": "code",
   "execution_count": 39,
   "metadata": {},
   "outputs": [
    {
     "data": {
      "text/plain": [
       "{0: 2.4248302618816684, 1: 1.7018379850238257}"
      ]
     },
     "execution_count": 39,
     "metadata": {},
     "output_type": "execute_result"
    }
   ],
   "source": [
    "weights={0:frequencies.sum()/frequencies[0],1:frequencies.sum()/frequencies[1]}\n",
    "weights"
   ]
  },
  {
   "cell_type": "code",
   "execution_count": 40,
   "metadata": {},
   "outputs": [
    {
     "name": "stdout",
     "output_type": "stream",
     "text": [
      "Epoch 1/20\n",
      "WARNING:tensorflow:From c:\\Users\\berid\\AppData\\Local\\Programs\\Python\\Python311\\Lib\\site-packages\\keras\\src\\utils\\tf_utils.py:492: The name tf.ragged.RaggedTensorValue is deprecated. Please use tf.compat.v1.ragged.RaggedTensorValue instead.\n",
      "\n",
      "WARNING:tensorflow:From c:\\Users\\berid\\AppData\\Local\\Programs\\Python\\Python311\\Lib\\site-packages\\keras\\src\\engine\\base_layer_utils.py:384: The name tf.executing_eagerly_outside_functions is deprecated. Please use tf.compat.v1.executing_eagerly_outside_functions instead.\n",
      "\n",
      "110/110 [==============================] - ETA: 0s - loss: 1.3916 - accuracy: 0.5109 - auc: 0.5272INFO:tensorflow:Assets written to: model\\assets\n"
     ]
    },
    {
     "name": "stderr",
     "output_type": "stream",
     "text": [
      "INFO:tensorflow:Assets written to: model\\assets\n"
     ]
    },
    {
     "name": "stdout",
     "output_type": "stream",
     "text": [
      "110/110 [==============================] - 61s 538ms/step - loss: 1.3916 - accuracy: 0.5109 - auc: 0.5272 - val_loss: 0.6728 - val_accuracy: 0.6027 - val_auc: 0.5938\n",
      "Epoch 2/20\n",
      "110/110 [==============================] - ETA: 0s - loss: 1.3604 - accuracy: 0.5846 - auc: 0.6038INFO:tensorflow:Assets written to: model\\assets\n"
     ]
    },
    {
     "name": "stderr",
     "output_type": "stream",
     "text": [
      "INFO:tensorflow:Assets written to: model\\assets\n"
     ]
    },
    {
     "name": "stdout",
     "output_type": "stream",
     "text": [
      "110/110 [==============================] - 65s 593ms/step - loss: 1.3604 - accuracy: 0.5846 - auc: 0.6038 - val_loss: 0.6696 - val_accuracy: 0.6053 - val_auc: 0.6104\n",
      "Epoch 3/20\n",
      "110/110 [==============================] - ETA: 0s - loss: 1.3229 - accuracy: 0.6020 - auc: 0.6466INFO:tensorflow:Assets written to: model\\assets\n"
     ]
    },
    {
     "name": "stderr",
     "output_type": "stream",
     "text": [
      "INFO:tensorflow:Assets written to: model\\assets\n"
     ]
    },
    {
     "name": "stdout",
     "output_type": "stream",
     "text": [
      "110/110 [==============================] - 70s 635ms/step - loss: 1.3229 - accuracy: 0.6020 - auc: 0.6466 - val_loss: 0.6612 - val_accuracy: 0.6293 - val_auc: 0.6253\n",
      "Epoch 4/20\n",
      "110/110 [==============================] - 47s 430ms/step - loss: 1.2747 - accuracy: 0.6457 - auc: 0.6959 - val_loss: 0.6924 - val_accuracy: 0.5693 - val_auc: 0.6253\n",
      "Epoch 5/20\n",
      "110/110 [==============================] - 48s 436ms/step - loss: 1.2447 - accuracy: 0.6643 - auc: 0.7193 - val_loss: 0.6774 - val_accuracy: 0.6013 - val_auc: 0.6361\n",
      "Epoch 6/20\n",
      "110/110 [==============================] - ETA: 0s - loss: 1.1981 - accuracy: 0.6880 - auc: 0.7523INFO:tensorflow:Assets written to: model\\assets\n"
     ]
    },
    {
     "name": "stderr",
     "output_type": "stream",
     "text": [
      "INFO:tensorflow:Assets written to: model\\assets\n"
     ]
    },
    {
     "name": "stdout",
     "output_type": "stream",
     "text": [
      "110/110 [==============================] - 50s 452ms/step - loss: 1.1981 - accuracy: 0.6880 - auc: 0.7523 - val_loss: 0.6437 - val_accuracy: 0.6693 - val_auc: 0.6729\n",
      "Epoch 7/20\n",
      "110/110 [==============================] - 74s 674ms/step - loss: 1.1683 - accuracy: 0.7017 - auc: 0.7721 - val_loss: 0.6480 - val_accuracy: 0.6587 - val_auc: 0.6754\n",
      "Epoch 8/20\n",
      "110/110 [==============================] - 72s 657ms/step - loss: 1.1424 - accuracy: 0.7074 - auc: 0.7789 - val_loss: 0.6590 - val_accuracy: 0.6320 - val_auc: 0.6799\n",
      "Epoch 9/20\n",
      "110/110 [==============================] - 62s 568ms/step - loss: 1.1075 - accuracy: 0.7186 - auc: 0.8007 - val_loss: 0.6474 - val_accuracy: 0.6573 - val_auc: 0.6852\n",
      "Epoch 10/20\n",
      "110/110 [==============================] - ETA: 0s - loss: 1.0751 - accuracy: 0.7366 - auc: 0.8151INFO:tensorflow:Assets written to: model\\assets\n"
     ]
    },
    {
     "name": "stderr",
     "output_type": "stream",
     "text": [
      "INFO:tensorflow:Assets written to: model\\assets\n"
     ]
    },
    {
     "name": "stdout",
     "output_type": "stream",
     "text": [
      "110/110 [==============================] - 69s 627ms/step - loss: 1.0751 - accuracy: 0.7366 - auc: 0.8151 - val_loss: 0.6412 - val_accuracy: 0.6733 - val_auc: 0.6920\n",
      "Epoch 11/20\n",
      "110/110 [==============================] - ETA: 0s - loss: 1.0537 - accuracy: 0.7511 - auc: 0.8239INFO:tensorflow:Assets written to: model\\assets\n"
     ]
    },
    {
     "name": "stderr",
     "output_type": "stream",
     "text": [
      "INFO:tensorflow:Assets written to: model\\assets\n"
     ]
    },
    {
     "name": "stdout",
     "output_type": "stream",
     "text": [
      "110/110 [==============================] - 70s 641ms/step - loss: 1.0537 - accuracy: 0.7511 - auc: 0.8239 - val_loss: 0.6361 - val_accuracy: 0.6787 - val_auc: 0.6929\n",
      "Epoch 12/20\n",
      "110/110 [==============================] - 61s 555ms/step - loss: 1.0319 - accuracy: 0.7526 - auc: 0.8342 - val_loss: 0.7080 - val_accuracy: 0.6093 - val_auc: 0.6791\n",
      "Epoch 13/20\n",
      "110/110 [==============================] - 62s 563ms/step - loss: 1.0126 - accuracy: 0.7606 - auc: 0.8415 - val_loss: 0.6447 - val_accuracy: 0.6707 - val_auc: 0.6968\n",
      "Epoch 14/20\n",
      "110/110 [==============================] - 63s 575ms/step - loss: 0.9805 - accuracy: 0.7654 - auc: 0.8548 - val_loss: 0.6379 - val_accuracy: 0.6707 - val_auc: 0.6998\n",
      "Epoch 15/20\n",
      "110/110 [==============================] - 62s 563ms/step - loss: 0.9568 - accuracy: 0.7811 - auc: 0.8620 - val_loss: 0.6772 - val_accuracy: 0.6400 - val_auc: 0.6939\n",
      "Epoch 16/20\n",
      "110/110 [==============================] - 61s 559ms/step - loss: 0.9369 - accuracy: 0.7906 - auc: 0.8709 - val_loss: 0.6542 - val_accuracy: 0.6800 - val_auc: 0.7008\n",
      "Epoch 17/20\n",
      "110/110 [==============================] - 62s 562ms/step - loss: 0.9182 - accuracy: 0.7903 - auc: 0.8750 - val_loss: 0.6536 - val_accuracy: 0.6733 - val_auc: 0.7046\n",
      "Epoch 18/20\n",
      "110/110 [==============================] - 57s 522ms/step - loss: 0.8950 - accuracy: 0.8026 - auc: 0.8837 - val_loss: 0.6511 - val_accuracy: 0.6680 - val_auc: 0.7037\n",
      "Epoch 19/20\n",
      "110/110 [==============================] - 53s 483ms/step - loss: 0.8790 - accuracy: 0.8074 - auc: 0.8876 - val_loss: 0.6496 - val_accuracy: 0.6907 - val_auc: 0.7064\n",
      "Epoch 20/20\n",
      "110/110 [==============================] - 50s 459ms/step - loss: 0.8580 - accuracy: 0.8191 - auc: 0.8949 - val_loss: 0.6552 - val_accuracy: 0.6733 - val_auc: 0.7034\n"
     ]
    },
    {
     "data": {
      "text/plain": [
       "<keras.src.callbacks.History at 0x1f51ff04c50>"
      ]
     },
     "execution_count": 40,
     "metadata": {},
     "output_type": "execute_result"
    }
   ],
   "source": [
    "model.fit(X_train,y_train,validation_data=(X_val,y_val),epochs=20,callbacks=[cp],class_weight=weights)"
   ]
  },
  {
   "cell_type": "code",
   "execution_count": 41,
   "metadata": {},
   "outputs": [
    {
     "name": "stdout",
     "output_type": "stream",
     "text": [
      "WARNING:tensorflow:From c:\\Users\\berid\\AppData\\Local\\Programs\\Python\\Python311\\Lib\\site-packages\\keras\\src\\saving\\legacy\\saved_model\\load.py:107: The name tf.gfile.Exists is deprecated. Please use tf.io.gfile.exists instead.\n",
      "\n"
     ]
    },
    {
     "name": "stderr",
     "output_type": "stream",
     "text": [
      "WARNING:tensorflow:From c:\\Users\\berid\\AppData\\Local\\Programs\\Python\\Python311\\Lib\\site-packages\\keras\\src\\saving\\legacy\\saved_model\\load.py:107: The name tf.gfile.Exists is deprecated. Please use tf.io.gfile.exists instead.\n",
      "\n"
     ]
    }
   ],
   "source": [
    "from keras.models import load_model\n",
    "\n",
    "best_model = load_model('model/')"
   ]
  },
  {
   "cell_type": "code",
   "execution_count": 42,
   "metadata": {},
   "outputs": [
    {
     "name": "stdout",
     "output_type": "stream",
     "text": [
      "24/24 [==============================] - 5s 202ms/step\n",
      "              precision    recall  f1-score   support\n",
      "\n",
      "           0       0.66      0.52      0.58       310\n",
      "           1       0.71      0.81      0.75       440\n",
      "\n",
      "    accuracy                           0.69       750\n",
      "   macro avg       0.68      0.67      0.67       750\n",
      "weighted avg       0.69      0.69      0.68       750\n",
      "\n"
     ]
    }
   ],
   "source": [
    "test_predictions = (best_model.predict(X_test) > 0.5).astype(int)\n",
    "\n",
    "from sklearn.metrics import classification_report\n",
    "\n",
    "print(classification_report(y_test, test_predictions))"
   ]
  },
  {
   "cell_type": "code",
   "execution_count": 43,
   "metadata": {},
   "outputs": [
    {
     "data": {
      "text/plain": [
       "<Axes: >"
      ]
     },
     "execution_count": 43,
     "metadata": {},
     "output_type": "execute_result"
    },
    {
     "data": {
      "image/png": "[encoded data removed]",
      "text/plain": [
       "<Figure size 640x480 with 2 Axes>"
      ]
     },
     "metadata": {},
     "output_type": "display_data"
    }
   ],
   "source": [
    "from sklearn import metrics\n",
    "\n",
    "cm=metrics.confusion_matrix(test_predictions,y_test)\n",
    "cm=cm/cm.sum()*100\n",
    "\n",
    "import seaborn as sns\n",
    "\n",
    "sns.heatmap(cm,annot=True,cmap='bwr')"
   ]
  },
  {
   "cell_type": "code",
   "execution_count": null,
   "metadata": {},
   "outputs": [],
   "source": []
  }
 ],
 "metadata": {
  "kernelspec": {
   "display_name": "Python 3",
   "language": "python",
   "name": "python3"
  },
  "language_info": {
   "codemirror_mode": {
    "name": "ipython",
    "version": 3
   },
   "file_extension": ".py",
   "mimetype": "text/x-python",
   "name": "python",
   "nbconvert_exporter": "python",
   "pygments_lexer": "ipython3",
   "version": "3.11.3"
  }
 },
 "nbformat": 4,
 "nbformat_minor": 2
}
